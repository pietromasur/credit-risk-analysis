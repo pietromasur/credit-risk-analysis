{
 "cells": [
  {
   "cell_type": "markdown",
   "metadata": {
    "id": "yFYgv97k2DUP"
   },
   "source": [
    "# Credit Analysis Project"
   ]
  },
  {
   "cell_type": "markdown",
   "metadata": {
    "id": "FtZn3zgSz1qf"
   },
   "source": [
    "## Connecting to drive and installing requirements"
   ]
  },
  {
   "cell_type": "code",
   "execution_count": 1,
   "metadata": {
    "colab": {
     "base_uri": "https://localhost:8080/"
    },
    "id": "YF4D3uX_2YKz",
    "outputId": "e3c21fd4-9e4d-44b0-97e6-526b1c4657f0"
   },
   "outputs": [
    {
     "name": "stdout",
     "output_type": "stream",
     "text": [
      "Mounted at /content/gdrive\n"
     ]
    }
   ],
   "source": [
    "from google.colab import drive\n",
    "drive.mount('/content/gdrive')"
   ]
  },
  {
   "cell_type": "code",
   "execution_count": 2,
   "metadata": {
    "colab": {
     "base_uri": "https://localhost:8080/"
    },
    "id": "-paov50Y2DUW",
    "outputId": "38844343-0189-42e5-f2aa-376e43af2f12",
    "scrolled": false
   },
   "outputs": [
    {
     "name": "stdout",
     "output_type": "stream",
     "text": [
      "Requirement already satisfied: scikit-learn in /usr/local/lib/python3.7/dist-packages (1.0.2)\n",
      "Requirement already satisfied: scipy>=1.1.0 in /usr/local/lib/python3.7/dist-packages (from scikit-learn) (1.4.1)\n",
      "Requirement already satisfied: threadpoolctl>=2.0.0 in /usr/local/lib/python3.7/dist-packages (from scikit-learn) (3.1.0)\n",
      "Requirement already satisfied: joblib>=0.11 in /usr/local/lib/python3.7/dist-packages (from scikit-learn) (1.1.0)\n",
      "Requirement already satisfied: numpy>=1.14.6 in /usr/local/lib/python3.7/dist-packages (from scikit-learn) (1.21.5)\n",
      "Collecting scikit-plot\n",
      "  Downloading scikit_plot-0.3.7-py3-none-any.whl (33 kB)\n",
      "Requirement already satisfied: joblib>=0.10 in /usr/local/lib/python3.7/dist-packages (from scikit-plot) (1.1.0)\n",
      "Requirement already satisfied: scikit-learn>=0.18 in /usr/local/lib/python3.7/dist-packages (from scikit-plot) (1.0.2)\n",
      "Requirement already satisfied: scipy>=0.9 in /usr/local/lib/python3.7/dist-packages (from scikit-plot) (1.4.1)\n",
      "Requirement already satisfied: matplotlib>=1.4.0 in /usr/local/lib/python3.7/dist-packages (from scikit-plot) (3.2.2)\n",
      "Requirement already satisfied: python-dateutil>=2.1 in /usr/local/lib/python3.7/dist-packages (from matplotlib>=1.4.0->scikit-plot) (2.8.2)\n",
      "Requirement already satisfied: kiwisolver>=1.0.1 in /usr/local/lib/python3.7/dist-packages (from matplotlib>=1.4.0->scikit-plot) (1.4.2)\n",
      "Requirement already satisfied: cycler>=0.10 in /usr/local/lib/python3.7/dist-packages (from matplotlib>=1.4.0->scikit-plot) (0.11.0)\n",
      "Requirement already satisfied: numpy>=1.11 in /usr/local/lib/python3.7/dist-packages (from matplotlib>=1.4.0->scikit-plot) (1.21.5)\n",
      "Requirement already satisfied: pyparsing!=2.0.4,!=2.1.2,!=2.1.6,>=2.0.1 in /usr/local/lib/python3.7/dist-packages (from matplotlib>=1.4.0->scikit-plot) (3.0.8)\n",
      "Requirement already satisfied: typing-extensions in /usr/local/lib/python3.7/dist-packages (from kiwisolver>=1.0.1->matplotlib>=1.4.0->scikit-plot) (4.1.1)\n",
      "Requirement already satisfied: six>=1.5 in /usr/local/lib/python3.7/dist-packages (from python-dateutil>=2.1->matplotlib>=1.4.0->scikit-plot) (1.15.0)\n",
      "Requirement already satisfied: threadpoolctl>=2.0.0 in /usr/local/lib/python3.7/dist-packages (from scikit-learn>=0.18->scikit-plot) (3.1.0)\n",
      "Installing collected packages: scikit-plot\n",
      "Successfully installed scikit-plot-0.3.7\n"
     ]
    }
   ],
   "source": [
    "!pip install -U scikit-learn\n",
    "!pip install scikit-plot"
   ]
  },
  {
   "cell_type": "markdown",
   "metadata": {
    "id": "tl9-IF9_2DUc"
   },
   "source": [
    "## Imports and dataset loading"
   ]
  },
  {
   "cell_type": "code",
   "execution_count": 3,
   "metadata": {
    "id": "RjbpxiXABVEV"
   },
   "outputs": [],
   "source": [
    "import pandas as pd\n",
    "import numpy as np\n",
    "\n",
    "from sklearn.neural_network import MLPClassifier\n",
    "from sklearn.ensemble import RandomForestClassifier\n",
    "\n",
    "from sklearn.metrics import accuracy_score"
   ]
  },
  {
   "cell_type": "markdown",
   "metadata": {
    "id": "AEEWZgjb2DUd"
   },
   "source": [
    "The process we will follow to partition data is described on the chart bellow"
   ]
  },
  {
   "cell_type": "code",
   "execution_count": 4,
   "metadata": {
    "colab": {
     "base_uri": "https://localhost:8080/",
     "height": 0
    },
    "id": "14wnOwF2BpdC",
    "outputId": "a83139b5-6416-4846-a61b-7f3c775370ce"
   },
   "outputs": [
    {
     "data": {
      "text/html": [
       "\n",
       "  <div id=\"df-154cf1cb-659c-4e9f-a1d2-a09c56a6e59c\">\n",
       "    <div class=\"colab-df-container\">\n",
       "      <div>\n",
       "<style scoped>\n",
       "    .dataframe tbody tr th:only-of-type {\n",
       "        vertical-align: middle;\n",
       "    }\n",
       "\n",
       "    .dataframe tbody tr th {\n",
       "        vertical-align: top;\n",
       "    }\n",
       "\n",
       "    .dataframe thead th {\n",
       "        text-align: right;\n",
       "    }\n",
       "</style>\n",
       "<table border=\"1\" class=\"dataframe\">\n",
       "  <thead>\n",
       "    <tr style=\"text-align: right;\">\n",
       "      <th></th>\n",
       "      <th>INDEX</th>\n",
       "      <th>UF_1</th>\n",
       "      <th>UF_2</th>\n",
       "      <th>UF_3</th>\n",
       "      <th>UF_4</th>\n",
       "      <th>UF_5</th>\n",
       "      <th>UF_6</th>\n",
       "      <th>UF_7</th>\n",
       "      <th>IDADE</th>\n",
       "      <th>SEXO_1</th>\n",
       "      <th>...</th>\n",
       "      <th>CEP4_7</th>\n",
       "      <th>CEP4_8</th>\n",
       "      <th>CEP4_9</th>\n",
       "      <th>CEP4_10</th>\n",
       "      <th>CEP4_11</th>\n",
       "      <th>CEP4_12</th>\n",
       "      <th>CEP4_13</th>\n",
       "      <th>CEP4_14</th>\n",
       "      <th>IND_BOM_1_1</th>\n",
       "      <th>IND_BOM_1_2</th>\n",
       "    </tr>\n",
       "  </thead>\n",
       "  <tbody>\n",
       "    <tr>\n",
       "      <th>0</th>\n",
       "      <td>0</td>\n",
       "      <td>1</td>\n",
       "      <td>1</td>\n",
       "      <td>1</td>\n",
       "      <td>0</td>\n",
       "      <td>0</td>\n",
       "      <td>0</td>\n",
       "      <td>0</td>\n",
       "      <td>0.135098</td>\n",
       "      <td>1</td>\n",
       "      <td>...</td>\n",
       "      <td>0</td>\n",
       "      <td>0</td>\n",
       "      <td>1</td>\n",
       "      <td>1</td>\n",
       "      <td>0</td>\n",
       "      <td>1</td>\n",
       "      <td>1</td>\n",
       "      <td>1</td>\n",
       "      <td>0</td>\n",
       "      <td>1</td>\n",
       "    </tr>\n",
       "    <tr>\n",
       "      <th>1</th>\n",
       "      <td>1</td>\n",
       "      <td>1</td>\n",
       "      <td>0</td>\n",
       "      <td>1</td>\n",
       "      <td>0</td>\n",
       "      <td>0</td>\n",
       "      <td>1</td>\n",
       "      <td>0</td>\n",
       "      <td>0.273504</td>\n",
       "      <td>1</td>\n",
       "      <td>...</td>\n",
       "      <td>0</td>\n",
       "      <td>1</td>\n",
       "      <td>0</td>\n",
       "      <td>1</td>\n",
       "      <td>1</td>\n",
       "      <td>0</td>\n",
       "      <td>0</td>\n",
       "      <td>0</td>\n",
       "      <td>1</td>\n",
       "      <td>0</td>\n",
       "    </tr>\n",
       "    <tr>\n",
       "      <th>2</th>\n",
       "      <td>2</td>\n",
       "      <td>1</td>\n",
       "      <td>0</td>\n",
       "      <td>1</td>\n",
       "      <td>0</td>\n",
       "      <td>0</td>\n",
       "      <td>1</td>\n",
       "      <td>0</td>\n",
       "      <td>0.281910</td>\n",
       "      <td>0</td>\n",
       "      <td>...</td>\n",
       "      <td>1</td>\n",
       "      <td>1</td>\n",
       "      <td>0</td>\n",
       "      <td>0</td>\n",
       "      <td>0</td>\n",
       "      <td>0</td>\n",
       "      <td>1</td>\n",
       "      <td>0</td>\n",
       "      <td>1</td>\n",
       "      <td>0</td>\n",
       "    </tr>\n",
       "    <tr>\n",
       "      <th>3</th>\n",
       "      <td>3</td>\n",
       "      <td>1</td>\n",
       "      <td>1</td>\n",
       "      <td>1</td>\n",
       "      <td>0</td>\n",
       "      <td>0</td>\n",
       "      <td>0</td>\n",
       "      <td>0</td>\n",
       "      <td>0.225741</td>\n",
       "      <td>0</td>\n",
       "      <td>...</td>\n",
       "      <td>1</td>\n",
       "      <td>1</td>\n",
       "      <td>0</td>\n",
       "      <td>1</td>\n",
       "      <td>1</td>\n",
       "      <td>0</td>\n",
       "      <td>1</td>\n",
       "      <td>0</td>\n",
       "      <td>1</td>\n",
       "      <td>0</td>\n",
       "    </tr>\n",
       "    <tr>\n",
       "      <th>4</th>\n",
       "      <td>4</td>\n",
       "      <td>1</td>\n",
       "      <td>1</td>\n",
       "      <td>0</td>\n",
       "      <td>0</td>\n",
       "      <td>0</td>\n",
       "      <td>1</td>\n",
       "      <td>0</td>\n",
       "      <td>0.480403</td>\n",
       "      <td>0</td>\n",
       "      <td>...</td>\n",
       "      <td>1</td>\n",
       "      <td>1</td>\n",
       "      <td>1</td>\n",
       "      <td>0</td>\n",
       "      <td>0</td>\n",
       "      <td>1</td>\n",
       "      <td>0</td>\n",
       "      <td>1</td>\n",
       "      <td>1</td>\n",
       "      <td>0</td>\n",
       "    </tr>\n",
       "  </tbody>\n",
       "</table>\n",
       "<p>5 rows × 246 columns</p>\n",
       "</div>\n",
       "      <button class=\"colab-df-convert\" onclick=\"convertToInteractive('df-154cf1cb-659c-4e9f-a1d2-a09c56a6e59c')\"\n",
       "              title=\"Convert this dataframe to an interactive table.\"\n",
       "              style=\"display:none;\">\n",
       "        \n",
       "  <svg xmlns=\"http://www.w3.org/2000/svg\" height=\"24px\"viewBox=\"0 0 24 24\"\n",
       "       width=\"24px\">\n",
       "    <path d=\"M0 0h24v24H0V0z\" fill=\"none\"/>\n",
       "    <path d=\"M18.56 5.44l.94 2.06.94-2.06 2.06-.94-2.06-.94-.94-2.06-.94 2.06-2.06.94zm-11 1L8.5 8.5l.94-2.06 2.06-.94-2.06-.94L8.5 2.5l-.94 2.06-2.06.94zm10 10l.94 2.06.94-2.06 2.06-.94-2.06-.94-.94-2.06-.94 2.06-2.06.94z\"/><path d=\"M17.41 7.96l-1.37-1.37c-.4-.4-.92-.59-1.43-.59-.52 0-1.04.2-1.43.59L10.3 9.45l-7.72 7.72c-.78.78-.78 2.05 0 2.83L4 21.41c.39.39.9.59 1.41.59.51 0 1.02-.2 1.41-.59l7.78-7.78 2.81-2.81c.8-.78.8-2.07 0-2.86zM5.41 20L4 18.59l7.72-7.72 1.47 1.35L5.41 20z\"/>\n",
       "  </svg>\n",
       "      </button>\n",
       "      \n",
       "  <style>\n",
       "    .colab-df-container {\n",
       "      display:flex;\n",
       "      flex-wrap:wrap;\n",
       "      gap: 12px;\n",
       "    }\n",
       "\n",
       "    .colab-df-convert {\n",
       "      background-color: #E8F0FE;\n",
       "      border: none;\n",
       "      border-radius: 50%;\n",
       "      cursor: pointer;\n",
       "      display: none;\n",
       "      fill: #1967D2;\n",
       "      height: 32px;\n",
       "      padding: 0 0 0 0;\n",
       "      width: 32px;\n",
       "    }\n",
       "\n",
       "    .colab-df-convert:hover {\n",
       "      background-color: #E2EBFA;\n",
       "      box-shadow: 0px 1px 2px rgba(60, 64, 67, 0.3), 0px 1px 3px 1px rgba(60, 64, 67, 0.15);\n",
       "      fill: #174EA6;\n",
       "    }\n",
       "\n",
       "    [theme=dark] .colab-df-convert {\n",
       "      background-color: #3B4455;\n",
       "      fill: #D2E3FC;\n",
       "    }\n",
       "\n",
       "    [theme=dark] .colab-df-convert:hover {\n",
       "      background-color: #434B5C;\n",
       "      box-shadow: 0px 1px 3px 1px rgba(0, 0, 0, 0.15);\n",
       "      filter: drop-shadow(0px 1px 2px rgba(0, 0, 0, 0.3));\n",
       "      fill: #FFFFFF;\n",
       "    }\n",
       "  </style>\n",
       "\n",
       "      <script>\n",
       "        const buttonEl =\n",
       "          document.querySelector('#df-154cf1cb-659c-4e9f-a1d2-a09c56a6e59c button.colab-df-convert');\n",
       "        buttonEl.style.display =\n",
       "          google.colab.kernel.accessAllowed ? 'block' : 'none';\n",
       "\n",
       "        async function convertToInteractive(key) {\n",
       "          const element = document.querySelector('#df-154cf1cb-659c-4e9f-a1d2-a09c56a6e59c');\n",
       "          const dataTable =\n",
       "            await google.colab.kernel.invokeFunction('convertToInteractive',\n",
       "                                                     [key], {});\n",
       "          if (!dataTable) return;\n",
       "\n",
       "          const docLinkHtml = 'Like what you see? Visit the ' +\n",
       "            '<a target=\"_blank\" href=https://colab.research.google.com/notebooks/data_table.ipynb>data table notebook</a>'\n",
       "            + ' to learn more about interactive tables.';\n",
       "          element.innerHTML = '';\n",
       "          dataTable['output_type'] = 'display_data';\n",
       "          await google.colab.output.renderOutput(dataTable, element);\n",
       "          const docLink = document.createElement('div');\n",
       "          docLink.innerHTML = docLinkHtml;\n",
       "          element.appendChild(docLink);\n",
       "        }\n",
       "      </script>\n",
       "    </div>\n",
       "  </div>\n",
       "  "
      ],
      "text/plain": [
       "   INDEX  UF_1  UF_2  UF_3  UF_4  UF_5  UF_6  UF_7     IDADE  SEXO_1  ...  \\\n",
       "0      0     1     1     1     0     0     0     0  0.135098       1  ...   \n",
       "1      1     1     0     1     0     0     1     0  0.273504       1  ...   \n",
       "2      2     1     0     1     0     0     1     0  0.281910       0  ...   \n",
       "3      3     1     1     1     0     0     0     0  0.225741       0  ...   \n",
       "4      4     1     1     0     0     0     1     0  0.480403       0  ...   \n",
       "\n",
       "   CEP4_7  CEP4_8  CEP4_9  CEP4_10  CEP4_11  CEP4_12  CEP4_13  CEP4_14  \\\n",
       "0       0       0       1        1        0        1        1        1   \n",
       "1       0       1       0        1        1        0        0        0   \n",
       "2       1       1       0        0        0        0        1        0   \n",
       "3       1       1       0        1        1        0        1        0   \n",
       "4       1       1       1        0        0        1        0        1   \n",
       "\n",
       "   IND_BOM_1_1  IND_BOM_1_2  \n",
       "0            0            1  \n",
       "1            1            0  \n",
       "2            1            0  \n",
       "3            1            0  \n",
       "4            1            0  \n",
       "\n",
       "[5 rows x 246 columns]"
      ]
     },
     "execution_count": 4,
     "metadata": {},
     "output_type": "execute_result"
    }
   ],
   "source": [
    "df = pd.read_table('gdrive/MyDrive/TRNcod.xls')\n",
    "\n",
    "df.dropna(inplace = True)\n",
    "\n",
    "df.head()"
   ]
  },
  {
   "cell_type": "code",
   "execution_count": 5,
   "metadata": {
    "colab": {
     "base_uri": "https://localhost:8080/"
    },
    "id": "yu5-2EhaVrzD",
    "outputId": "cfe8de61-568f-400f-9927-dd705939cb91"
   },
   "outputs": [
    {
     "name": "stdout",
     "output_type": "stream",
     "text": [
      "Quantidade de instâncias: 389196\n",
      "Quantidade de atributos: 246\n",
      "\n"
     ]
    }
   ],
   "source": [
    "print('Quantidade de instâncias: {}\\nQuantidade de atributos: {}\\n'.format(len(df), len(df.columns)))"
   ]
  },
  {
   "cell_type": "markdown",
   "metadata": {
    "id": "074WGTaMpYdd"
   },
   "source": [
    "### First Step: \n",
    "#### Splitting the Dataset on Two Classes"
   ]
  },
  {
   "cell_type": "code",
   "execution_count": 6,
   "metadata": {
    "colab": {
     "base_uri": "https://localhost:8080/"
    },
    "id": "YUEjT2L6hqbZ",
    "outputId": "c2c5141c-7a1b-467d-89e9-f36672997a0d"
   },
   "outputs": [
    {
     "data": {
      "text/plain": [
       "0    255098\n",
       "1    134098\n",
       "Name: IND_BOM_1_2, dtype: int64"
      ]
     },
     "execution_count": 6,
     "metadata": {},
     "output_type": "execute_result"
    }
   ],
   "source": [
    "df['IND_BOM_1_2'].value_counts()"
   ]
  },
  {
   "cell_type": "code",
   "execution_count": 7,
   "metadata": {
    "colab": {
     "base_uri": "https://localhost:8080/"
    },
    "id": "PeBZYmKalk-w",
    "outputId": "810dd35e-ccf8-4702-8e6b-dfc160d15249"
   },
   "outputs": [
    {
     "name": "stdout",
     "output_type": "stream",
     "text": [
      "Quantidade de instâncias na classe 0 :255098\n"
     ]
    }
   ],
   "source": [
    "df0 = df.loc[(df['IND_BOM_1_2']) == 0]\n",
    "print('Quantidade de instâncias na classe 0 :' + str(len(df0)))"
   ]
  },
  {
   "cell_type": "code",
   "execution_count": 8,
   "metadata": {
    "colab": {
     "base_uri": "https://localhost:8080/"
    },
    "id": "GZEuvkgzmFuY",
    "outputId": "84486e9c-9494-407e-ac18-1bbbb2e50575"
   },
   "outputs": [
    {
     "name": "stdout",
     "output_type": "stream",
     "text": [
      "Quantidade de instâncias na classe 1 :134098\n"
     ]
    }
   ],
   "source": [
    "df1 = df.loc[(df['IND_BOM_1_2']) == 1]\n",
    "print('Quantidade de instâncias na classe 1 :' + str(len(df1)))"
   ]
  },
  {
   "cell_type": "markdown",
   "metadata": {
    "id": "3uwSgYr8pg0l"
   },
   "source": [
    "### Second Step: \n",
    "#### Splitting on train, test and validation and augmenting to compensate data bias"
   ]
  },
  {
   "cell_type": "code",
   "execution_count": 9,
   "metadata": {
    "colab": {
     "base_uri": "https://localhost:8080/"
    },
    "id": "hI0JyoxVa7I0",
    "outputId": "0f6a01be-a103-4538-ea1d-ebd8c545e3c7"
   },
   "outputs": [
    {
     "name": "stdout",
     "output_type": "stream",
     "text": [
      "Size of train_0:  127549 \n",
      "Size of validate_0:  63774 \n",
      "Size of test_0: 63775\n"
     ]
    }
   ],
   "source": [
    "#First we shuffle the dataset\n",
    "df0 = df0.sample(frac=1, random_state=33)\n",
    "#Then we split the dataset in three\n",
    "len_df0 = len(df0)\n",
    "train_0, validate_0, test_0 = df0[0:int(len_df0*.5)], df0[int(len_df0*.5):int(len_df0*.75)], df0[int(len_df0*.75):]\n",
    "\n",
    "print(\"Size of train_0: \", len(train_0), \"\\nSize of validate_0: \", len(validate_0), \"\\nSize of test_0:\", len(test_0))"
   ]
  },
  {
   "cell_type": "code",
   "execution_count": 10,
   "metadata": {
    "colab": {
     "base_uri": "https://localhost:8080/"
    },
    "id": "oVLxAfxL2DUw",
    "outputId": "21018795-75c2-4864-877a-a5cb3239ff7f"
   },
   "outputs": [
    {
     "name": "stdout",
     "output_type": "stream",
     "text": [
      "Size of train_1:  67049 \n",
      "Size of validate_1:  33524 \n",
      "Size of test_1: 33525\n"
     ]
    }
   ],
   "source": [
    "#First we shuffle the dataset\n",
    "df1 = df1.sample(frac=1, random_state=33)\n",
    "#Then we split the dataset in three\n",
    "len_df1 = len(df1)\n",
    "train_1, validate_1, test_1 = df1[0:int(len_df1*.5)], df1[int(len_df1*.5):int(len_df1*.75)], df1[int(len_df1*.75):]\n",
    "\n",
    "print(\"Size of train_1: \", len(train_1), \"\\nSize of validate_1: \", len(validate_1), \"\\nSize of test_1:\", len(test_1))"
   ]
  },
  {
   "cell_type": "markdown",
   "metadata": {
    "id": "fD5IADnZ2DUw"
   },
   "source": [
    "#### We can see that class 1 contains less samples than class 0, thus we must perform a augmentation on out data to avoid a biased train"
   ]
  },
  {
   "cell_type": "code",
   "execution_count": 11,
   "metadata": {
    "colab": {
     "base_uri": "https://localhost:8080/"
    },
    "id": "2cuAKve52DUx",
    "outputId": "f95e6408-9ac7-4c7a-a52e-10abeb9efbc9"
   },
   "outputs": [
    {
     "name": "stdout",
     "output_type": "stream",
     "text": [
      "New train_1 len:  127549 \n",
      "New validate_1 len:  63774\n"
     ]
    }
   ],
   "source": [
    "train_data_ratio = len(train_1)/len(train_0)\n",
    "validate_data_ratio = len(validate_1)/len(validate_0)\n",
    "\n",
    "#We augment our data multiplying its size by 1/ratio \n",
    "new_train_1_len = int(len(train_1)/train_data_ratio)\n",
    "new_validate_1_len = int(len(validate_1)/validate_data_ratio)\n",
    "\n",
    "#We get a random sample that has the size we need to augment our data\n",
    "train_1_aug = train_1.sample(frac=1, random_state = 33)[:new_train_1_len - len(train_1)]\n",
    "validate_1_aug = validate_1.sample(frac=1, random_state = 33)[:new_validate_1_len - len(validate_1)]\n",
    "\n",
    "#Finally, we concatenate our data with the augmentation data\n",
    "train_1 = pd.concat([train_1, train_1_aug])\n",
    "validate_1 = pd.concat([validate_1, validate_1_aug])\n",
    "\n",
    "print(\"New train_1 len: \" ,len(train_1), \"\\nNew validate_1 len: \", len(validate_1))"
   ]
  },
  {
   "cell_type": "markdown",
   "metadata": {
    "id": "DvxFIeAi2DUy"
   },
   "source": [
    "### Third Step:\n",
    "#### Rejoining the and shuflling datasets"
   ]
  },
  {
   "cell_type": "code",
   "execution_count": 12,
   "metadata": {
    "id": "V3EyQ1n02DUy"
   },
   "outputs": [],
   "source": [
    "train = pd.concat([train_0, train_1]).sample(frac=1, random_state=33)\n",
    "validate = pd.concat([validate_0, validate_1]).sample(frac=1, random_state=33)\n",
    "#The test set does not need to be shuflled\n",
    "test = pd.concat([test_0, test_1])"
   ]
  },
  {
   "cell_type": "markdown",
   "metadata": {
    "id": "MNtGXvL92DUz"
   },
   "source": [
    "# Making Models for prediction"
   ]
  },
  {
   "cell_type": "markdown",
   "metadata": {
    "id": "nUluB-Yd2DUz"
   },
   "source": [
    "## Separating inputs from predictions"
   ]
  },
  {
   "cell_type": "code",
   "execution_count": 13,
   "metadata": {
    "id": "dSb0d0rU2DU0"
   },
   "outputs": [],
   "source": [
    "import torch\n",
    "from torch.utils.data import Dataset, DataLoader\n",
    "class RiskAnalysisDataset(Dataset):\n",
    "    \n",
    "    def __init__(self, data_features, data_labels):\n",
    "        self.data_features = torch.tensor(data_features.copy()).float()\n",
    "        self.data_labels = torch.tensor(data_labels.copy()).float()\n",
    "    \n",
    "    def __len__(self):\n",
    "        return len(self.data_features)\n",
    "    \n",
    "    def __getitem__(self, index):\n",
    "        return self.data_features[index], self.data_labels[index]\n",
    "        \n",
    "\n",
    "train_x = train.iloc[:, 0:244]\n",
    "train_Y = train.iloc[:, -1]\n",
    "train_data = RiskAnalysisDataset(train_x.values, train_Y.values)\n",
    "# variar batch train_loader = DataLoader(train_data, batch_size)\n",
    "\n",
    "validation_x = validate.iloc[:, 0:244]\n",
    "validation_Y = validate.iloc[:, -1]\n",
    "validation_data = RiskAnalysisDataset(validation_x.values, validation_Y.values)\n",
    "\n",
    "test_x = test.iloc[:, 0:244]\n",
    "test_Y = test.iloc[:, -1]\n",
    "test_data = RiskAnalysisDataset(test_x.values, test_Y.values)"
   ]
  },
  {
   "cell_type": "markdown",
   "metadata": {
    "id": "TM6hyso440M8"
   },
   "source": []
  },
  {
   "cell_type": "markdown",
   "metadata": {
    "id": "DV24CkGE5X0-"
   },
   "source": [
    "## Metrics used for evaluation"
   ]
  },
  {
   "cell_type": "code",
   "execution_count": 14,
   "metadata": {
    "id": "HRgwkgvuAi-C"
   },
   "outputs": [],
   "source": [
    "from sklearn.metrics import roc_curve, auc, mean_squared_error, confusion_matrix, classification_report\n",
    "from scipy.stats import ks_2samp\n",
    "import scikitplot as skplt\n",
    "import matplotlib\n",
    "import matplotlib.pyplot as plt\n",
    "\n",
    "def ks_stat(y, yhat):\n",
    "    return ks_2samp(yhat[y==1], yhat[y!=1]).statistic\n",
    "\n",
    "def get_metrics(y, yhat, y_proba=None):\n",
    "  results = dict()\n",
    "\n",
    "  \n",
    "  if (y_proba is not None):\n",
    "    skplt.metrics.plot_ks_statistic(y, y_proba)\n",
    "    plt.show()\n",
    "  false_positive_rate, true_positive_rate, thresholds = roc_curve(y, yhat)\n",
    "  results['auroc'] = auc(false_positive_rate, true_positive_rate)\n",
    "  results['KS'] = ks_stat(y, y_proba)\n",
    "  results['MSE'] = mean_squared_error(y,yhat)\n",
    "  results['confusion_matrix'] = confusion_matrix(y,yhat)\n",
    "  results['classification_report'] = classification_report(y,yhat)\n",
    "  for key in results:\n",
    "    print(key, ' ' , str(results[key]))\n",
    "  return results\n",
    "\n",
    "#RF_model = RandomForestClassifier(max_features = 7, max_depth = 10)\n",
    "#RF_model.fit(train_x, train_Y)\n",
    "#y_pred = RF_model.predict(validation_x)\n",
    "#y_proba = RF_model.predict_proba(validation_x)\n",
    "#results = get_metrics(validation_Y, y_pred, y_proba)"
   ]
  },
  {
   "cell_type": "markdown",
   "metadata": {
    "id": "cMQ0_tksyZna"
   },
   "source": [
    "## MLP"
   ]
  },
  {
   "cell_type": "markdown",
   "metadata": {
    "id": "TyliOnHKyZnk"
   },
   "source": [
    "### Class defining our Multi-layer Perceptron"
   ]
  },
  {
   "cell_type": "code",
   "execution_count": 15,
   "metadata": {
    "id": "ihtZjUb7yZnk"
   },
   "outputs": [],
   "source": [
    "class MLP(torch.nn.Module):\n",
    "  def __init__(self, input_size, num_neurons, num_hidden_layers, activation_func):\n",
    "      super(MLP, self).__init__()\n",
    "      self.input_size = input_size\n",
    "      self.num_neurons  = num_neurons\n",
    "      self.num_hidden_layers = num_hidden_layers\n",
    "      self.activation_func = activation_func\n",
    "      self.sigmoid = torch.nn.Sigmoid()\n",
    "      self.fc1 = torch.nn.Linear(self.input_size, self.num_neurons)\n",
    "      #Use ModuleList instead of regular list, due to optimizer definition\n",
    "      self.hidden_layers = torch.nn.ModuleList()\n",
    "      #hidden_layers\n",
    "      for i in range(self.num_hidden_layers):\n",
    "        self.hidden_layers.append(torch.nn.Linear(self.num_neurons, self.num_neurons))\n",
    "      self.fc2 = torch.nn.Linear(self.num_neurons, 2)\n",
    "  def forward(self, x):\n",
    "      x = self.fc1(x)\n",
    "      x = self.activation_func(x)\n",
    "      for i in range(self.num_hidden_layers):\n",
    "        x = self.hidden_layers[i](x)\n",
    "        x = self.activation_func(x)\n",
    "      x = self.fc2(x)\n",
    "      #Unnecessary due to cross entropy\n",
    "      #x = self.sigmoid(x)\n",
    "      return x\n"
   ]
  },
  {
   "cell_type": "markdown",
   "metadata": {
    "id": "WYiVEg3ryZnk"
   },
   "source": [
    "### Training and testing functions"
   ]
  },
  {
   "cell_type": "code",
   "execution_count": 22,
   "metadata": {
    "id": "x11DGPsMyZnk"
   },
   "outputs": [],
   "source": [
    "import tqdm.notebook\n",
    "import os\n",
    "criterion_dict = {'cross_entropy': torch.nn.CrossEntropyLoss(), 'MSE': torch.nn.MSELoss()}\n",
    "def fit(model, train_loader, criterion, optimizer):\n",
    "  iter = tqdm.notebook.tqdm(train_loader, leave = False)\n",
    "  model.train()\n",
    "  for x,y in iter:\n",
    "    yhat = model(x)\n",
    "    if (criterion == 'MSE'):\n",
    "      bin_yhat = yhat.argmax(dim=1)\n",
    "      loss = criterion_dict[criterion](bin_yhat, y)\n",
    "      loss.requires_grad = True\n",
    "    elif (criterion == 'cross_entropy'):\n",
    "      y = y.type(torch.LongTensor)\n",
    "      loss = criterion_dict[criterion](yhat, y)\n",
    "    optimizer.zero_grad()\n",
    "    loss.backward()\n",
    "    optimizer.step()\n",
    "\n",
    "def test(model, test_loader, criterion, epoch = 0):\n",
    "  losses = []\n",
    "  total_loss = 0\n",
    "  all_preds = torch.tensor([])\n",
    "  all_preds_proba = torch.tensor([])\n",
    "  all_targets = torch.tensor([])\n",
    "  iter = tqdm.notebook.tqdm(test_loader, leave = False)\n",
    "  model.eval()\n",
    "  with torch.no_grad():\n",
    "    for x,y in iter:\n",
    "      yhat = model(x)\n",
    "      if (criterion == 'MSE'):\n",
    "        bin_yhat = yhat.argmax(dim=1)\n",
    "        loss = criterion_dict[criterion](bin_yhat, y)\n",
    "        loss.requires_grad = True\n",
    "      elif (criterion == 'cross_entropy'):\n",
    "        y = y.type(torch.LongTensor)\n",
    "        loss = criterion_dict[criterion](yhat, y)\n",
    "      #losses.append(loss)\n",
    "      total_loss+=loss.item()\n",
    "      all_preds = torch.cat((all_preds, yhat.argmax(dim=1)))\n",
    "      all_preds_proba = torch.cat((all_preds_proba, yhat))\n",
    "      all_targets = torch.cat((all_targets, y))\n",
    " \n",
    "  return total_loss/len(test_loader), (all_targets.tolist(), all_preds.tolist(), all_preds_proba.tolist())\n",
    "\n",
    "def save_model(model, epoch, optimizer, criterion, lr, num_hidden, num_neuron, activation):\n",
    "    save_path = \"gdrive/MyDrive/models_backup\"\n",
    "    if not (os.path.isdir(save_path)):\n",
    "      os.makedirs(save_path)\n",
    "    torch.save(model.state_dict(), \"{}/model_optim_{}_criterion_{}_lr_{}_num_hidden_{}_num_neuron_{}_activation{}.pt\".format(save_path, epoch, str(optimizer), criterion, lr, num_hidden, num_neuron, activation))\n",
    "\n",
    "def train_and_evaluation(model, optimizer, optimizer_name, criterion, lr, num_hidden, num_neuron, activation, train_data, validation_data, test_data, batch_size= 16, pacience = 20, max_epochs = 10000, min_epochs = 15):\n",
    "  \"\"\"\n",
    "  Function that performs full train and test of a given MLP class model.\n",
    "  Parameters:\n",
    "    model: pytorch model\n",
    "    criterion: string naming the criterion to be used during train\n",
    "    optimizer: torch optmizer to be used during train\n",
    "    train_data: torch utils Dataset containing train data\n",
    "    validation_data: torch utils Dataset containing validation data\n",
    "    test_data: torch utils Dataset containing test data\n",
    "    batch_size: batch size\n",
    "    pacience: defines the number of epochs with loss decrease on validation data that can be tolerated before training stops\n",
    "    max_epochs: the minimum number of epochs\n",
    "    min_epochs: the maximum number of epochs\n",
    "  \"\"\"\n",
    "  counter = 0\n",
    "  current_loss = 0\n",
    "  last_loss = 0\n",
    "  best_loss = 10000\n",
    "  losses = []\n",
    "  batch_size = 8\n",
    "  train_loader = DataLoader(train_data, batch_size)\n",
    "  validation_loader = DataLoader(validation_data, batch_size)\n",
    "  test_loader = DataLoader(test_data, batch_size)\n",
    "  iter = tqdm.notebook.tqdm(range(max_epochs), leave = False)\n",
    "  for epoch in (iter):\n",
    "    # print(f\"Epoch {epoch} \")\n",
    "    fit(model, train_loader, criterion, optimizer)\n",
    "    current_loss, _ = test(model, validation_loader, criterion, epoch)\n",
    "    losses.append(current_loss)\n",
    "    print(\"Validation loss: \", current_loss)\n",
    "    #Model backup\n",
    "    if current_loss<best_loss:\n",
    "      best_loss = current_loss\n",
    "      save_model(model, epoch, optimizer_name, criterion, lr, num_hidden, num_neuron, activation)\n",
    "    #Pacience and overfit avoidance\n",
    "    if (current_loss > last_loss and epoch>min_epochs):\n",
    "      counter = counter + 1\n",
    "      losses_last_ten = losses[len(losses)-20:]\n",
    "      # average_recent_loss = sum(losses_last_ten)/len(losses_last_ten)\n",
    "      # if ((counter == pacience or current_loss>average_recent_loss)):\n",
    "      if (counter == pacience):\n",
    "        break\n",
    "    else:\n",
    "      counter = 0\n",
    "    last_loss = current_loss\n",
    "    current_loss = 0\n",
    "  #Final Evaluation\n",
    "  loss, (all_targets, all_preds, all_preds_proba) = test(model, test_loader, criterion)\n",
    "  print(\"Loss on test set: \" , loss)\n",
    "  return get_metrics(all_targets, all_preds, all_preds_proba)\n"
   ]
  },
  {
   "cell_type": "markdown",
   "metadata": {
    "id": "UVJw986byZnl"
   },
   "source": [
    "### Experiments"
   ]
  },
  {
   "cell_type": "code",
   "execution_count": 23,
   "metadata": {
    "id": "CrjQe6qRyZnl"
   },
   "outputs": [],
   "source": [
    "#auxiliary function\n",
    "def get_optim(optim, model, lr):\n",
    "  if('SGD' == optim):\n",
    "    return torch.optim.SGD(model.parameters(), lr = lr)\n",
    "  if('adam' == optim):\n",
    "    return torch.optim.Adam(model.parameters(), lr = lr)\n",
    "  if('adagrad' == optim):\n",
    "    return torch.optim.Adagrad(model.parameters(), lr = lr)"
   ]
  },
  {
   "cell_type": "code",
   "execution_count": null,
   "metadata": {
    "colab": {
     "base_uri": "https://localhost:8080/",
     "height": 98,
     "referenced_widgets": [
      "95b5857b7269491588b8c90ddcbb3ec8",
      "9c41ce10c6894545a890791d42393186",
      "5bd206cbe5bb4ebb959f42eb14eeabf3",
      "b93cb70c27744796be68e00e6875842d",
      "6fdd82f1563c4c408a2109fe3781e321",
      "3072e9e4bab44ad48afdad2e1bba7801",
      "b9f556ff1b2640939082eacf727d42d7",
      "fe23d78e046f49d58345e2d8999b555f",
      "96e7ed32c3414a54aac441e52cbfb201",
      "9a44037422f943a69a3db6d98cf86191",
      "7a4b19a71e624aa49a9f3987e008956c",
      "9cb29dc3867c497fa5a3104af6aa1f7f",
      "f8b26f17aac2449f93dc01db079368bf",
      "452ab8f9bd3c4c47a304274911cf43c8",
      "f69ad7c52a2d404f87d2e281ca614051",
      "3ef7745baae5491395faa0cbe4b97c72",
      "d460a6196fac4bba906e78b6bb0215cd",
      "e3eb8b5b625c4825935533ed040026c1",
      "e35587a4a5504f25826c44c116036e8a",
      "57d02c00fede423b839019b0e0e0fa4b",
      "c8dc4d95abf64d5886e63fe50ffe3ad1",
      "1341114e673c4de7a0c968437bedc5ad"
     ]
    },
    "id": "JA4APgVqyZnl",
    "outputId": "45ad72ef-ff94-48d7-f043-ce5ca5558f19"
   },
   "outputs": [
    {
     "name": "stdout",
     "output_type": "stream",
     "text": [
      "Optim: adagrad - lr: 0.1 - num_hidden: 1 - num_neuron: 80 - activation: ReLU() - criterion: cross_entropy\n"
     ]
    },
    {
     "data": {
      "application/vnd.jupyter.widget-view+json": {
       "model_id": "95b5857b7269491588b8c90ddcbb3ec8",
       "version_major": 2,
       "version_minor": 0
      },
      "text/plain": [
       "  0%|          | 0/10000 [00:00<?, ?it/s]"
      ]
     },
     "metadata": {},
     "output_type": "display_data"
    },
    {
     "data": {
      "application/vnd.jupyter.widget-view+json": {
       "model_id": "9cb29dc3867c497fa5a3104af6aa1f7f",
       "version_major": 2,
       "version_minor": 0
      },
      "text/plain": [
       "  0%|          | 0/31888 [00:00<?, ?it/s]"
      ]
     },
     "metadata": {},
     "output_type": "display_data"
    }
   ],
   "source": [
    "MLP_results = []\n",
    "optimizers = ['adagrad']\n",
    "#lrs = [0.005, 0.015, 0.3]\n",
    "lrs = [0.1]\n",
    "hidden_ls = [1]\n",
    "#neurons = [5,30,100]\n",
    "neurons = [80]\n",
    "activation_func = [torch.nn.ReLU()]\n",
    "criterions = ['cross_entropy']\n",
    "\n",
    "# if continuing training on saved model\n",
    "#recreate model from parameters specified on model name\n",
    "#model = MLP(244, 100, 2, torch.nn.ReLU())\n",
    "#model.load_state_dict(torch.load(\"gdrive/MyDrive/models_backup/model_6.pt\"))\n",
    "for optim in optimizers:\n",
    "  for lr in lrs:\n",
    "    for num_hidden in hidden_ls:\n",
    "      for num_neuron in neurons:\n",
    "        for activation in activation_func:\n",
    "\n",
    "          \n",
    "          for criterion in criterions:\n",
    "            out = \"Optim: {} - lr: {} - num_hidden: {} - num_neuron: {} - activation: {} - criterion: {}\"\n",
    "            print(out.format(optim,lr,num_hidden,num_neuron,activation,criterion))\n",
    "            \n",
    "            model = MLP(244, num_neuron, num_hidden, activation)\n",
    "            optimizer = get_optim(optim, model, lr)\n",
    "            result = train_and_evaluation(model, optimizer, criterion, lr, num_hidden, num_neuron, activation, train_data, validation_data, test_data)\n",
    "            MLP_results.append(result)\n",
    "    "
   ]
  },
  {
   "cell_type": "code",
   "execution_count": null,
   "metadata": {
    "colab": {
     "base_uri": "https://localhost:8080/",
     "height": 766,
     "referenced_widgets": [
      "def868e2338f411bbda58dfc1a7bfbdb",
      "d6b2dc7033144692824d8f0d1dcb3e61",
      "543754c15b744a5bb983cc8678654bc1",
      "ece6ead060f44278bfd58aea4b3290bf",
      "9974eebf444e43a6aa9d886503e4fd6a",
      "2673d62822264fcc8844d91af7ade870",
      "0b8c8bebfc584b1f82f534f1e5d85a37",
      "942353cbe3e5415887be28e642a977fc",
      "a1c8c76f292d4b39a494c58647b29dd1",
      "bb9dd41ab22c4626bfbb5dd63412c005",
      "a32cf5dddac44322a811fa12f8134c74"
     ]
    },
    "id": "_pqq4WapgW_i",
    "outputId": "02a298f6-50ed-40c5-fc91-33f893ce7a00"
   },
   "outputs": [
    {
     "data": {
      "application/vnd.jupyter.widget-view+json": {
       "model_id": "def868e2338f411bbda58dfc1a7bfbdb",
       "version_major": 2,
       "version_minor": 0
      },
      "text/plain": [
       "  0%|          | 0/12163 [00:00<?, ?it/s]"
      ]
     },
     "metadata": {},
     "output_type": "display_data"
    },
    {
     "data": {
      "image/png": "[encoded data removed]",
      "text/plain": [
       "<Figure size 432x288 with 1 Axes>"
      ]
     },
     "metadata": {
      "needs_background": "light"
     },
     "output_type": "display_data"
    },
    {
     "name": "stdout",
     "output_type": "stream",
     "text": [
      "auroc   0.5\n",
      "KS   0.5\n",
      "MSE   0.34455292908530316\n",
      "confusion_matrix   [[63775     0]\n",
      " [33525     0]]\n",
      "classification_report                 precision    recall  f1-score   support\n",
      "\n",
      "         0.0       0.66      1.00      0.79     63775\n",
      "         1.0       0.00      0.00      0.00     33525\n",
      "\n",
      "    accuracy                           0.66     97300\n",
      "   macro avg       0.33      0.50      0.40     97300\n",
      "weighted avg       0.43      0.66      0.52     97300\n",
      "\n"
     ]
    },
    {
     "name": "stderr",
     "output_type": "stream",
     "text": [
      "/usr/local/lib/python3.7/dist-packages/sklearn/metrics/_classification.py:1318: UndefinedMetricWarning: Precision and F-score are ill-defined and being set to 0.0 in labels with no predicted samples. Use `zero_division` parameter to control this behavior.\n",
      "  _warn_prf(average, modifier, msg_start, len(result))\n",
      "/usr/local/lib/python3.7/dist-packages/sklearn/metrics/_classification.py:1318: UndefinedMetricWarning: Precision and F-score are ill-defined and being set to 0.0 in labels with no predicted samples. Use `zero_division` parameter to control this behavior.\n",
      "  _warn_prf(average, modifier, msg_start, len(result))\n",
      "/usr/local/lib/python3.7/dist-packages/sklearn/metrics/_classification.py:1318: UndefinedMetricWarning: Precision and F-score are ill-defined and being set to 0.0 in labels with no predicted samples. Use `zero_division` parameter to control this behavior.\n",
      "  _warn_prf(average, modifier, msg_start, len(result))\n"
     ]
    },
    {
     "data": {
      "text/plain": [
       "{'KS': 0.5,\n",
       " 'MSE': 0.34455292908530316,\n",
       " 'auroc': 0.5,\n",
       " 'classification_report': '              precision    recall  f1-score   support\\n\\n         0.0       0.66      1.00      0.79     63775\\n         1.0       0.00      0.00      0.00     33525\\n\\n    accuracy                           0.66     97300\\n   macro avg       0.33      0.50      0.40     97300\\nweighted avg       0.43      0.66      0.52     97300\\n',\n",
       " 'confusion_matrix': array([[63775,     0],\n",
       "        [33525,     0]])}"
      ]
     },
     "execution_count": 20,
     "metadata": {},
     "output_type": "execute_result"
    }
   ],
   "source": [
    "test_loader = DataLoader(test_data, 8)\n",
    "model = MLP(244, 100, 2, torch.nn.ReLU())\n",
    "model.load_state_dict(torch.load(\"gdrive/MyDrive/models_backup/model_251.pt\"))\n",
    "loss, (all_targets, all_preds, all_preds_proba) = test(model, test_loader, 'cross_entropy')\n",
    "get_metrics(all_targets, all_preds, all_preds_proba)"
   ]
  },
  {
   "cell_type": "markdown",
   "metadata": {
    "id": "6cjORznD2DU2"
   },
   "source": [
    "## Random Forest"
   ]
  },
  {
   "cell_type": "markdown",
   "metadata": {
    "id": "zDMl5kjfLqcg"
   },
   "source": [
    "### First set of experiments\n",
    "Here we preliminarly found min_sample_splits and max_dephts best parameters and experimented with max_samples and max_features to try improving our model."
   ]
  },
  {
   "cell_type": "code",
   "execution_count": null,
   "metadata": {
    "id": "qkkS1oT1MBXu"
   },
   "outputs": [],
   "source": [
    "# Set of hyper-parameters for grid search\n",
    "\n",
    "max_samples = [None, 0.75, 0.6]\n",
    "# Sqrt of columns_number\n",
    "max_features =  [244, 200, 150,120,90,70]\n",
    "max_depths = [10]\n",
    "min_samples_splits = [0.0015]\n",
    "RF_test_results = []"
   ]
  },
  {
   "cell_type": "code",
   "execution_count": null,
   "metadata": {
    "colab": {
     "base_uri": "https://localhost:8080/",
     "height": 1000
    },
    "id": "vv420FY8MIUc",
    "outputId": "11e98e30-51b5-4447-ed67-5c426ec6b961"
   },
   "outputs": [
    {
     "name": "stdout",
     "output_type": "stream",
     "text": [
      "Max_sample None Max_feature 244 Max_depht 10 Min_samples_split 0.0015\n"
     ]
    },
    {
     "data": {
      "image/png": "[encoded data removed]",
      "text/plain": [
       "<Figure size 432x288 with 1 Axes>"
      ]
     },
     "metadata": {},
     "output_type": "display_data"
    },
    {
     "name": "stdout",
     "output_type": "stream",
     "text": [
      "auroc   0.6431332655732089\n",
      "KS   0.28626653114641776\n",
      "MSE   0.3673175745118191\n",
      "confusion_matrix   [[38872 24903]\n",
      " [10837 22688]]\n",
      "classification_report                 precision    recall  f1-score   support\n",
      "\n",
      "           0       0.78      0.61      0.69     63775\n",
      "           1       0.48      0.68      0.56     33525\n",
      "\n",
      "    accuracy                           0.63     97300\n",
      "   macro avg       0.63      0.64      0.62     97300\n",
      "weighted avg       0.68      0.63      0.64     97300\n",
      "\n",
      "Max_sample None Max_feature 200 Max_depht 10 Min_samples_split 0.0015\n"
     ]
    },
    {
     "data": {
      "image/png": "[encoded data removed]",
      "text/plain": [
       "<Figure size 432x288 with 1 Axes>"
      ]
     },
     "metadata": {},
     "output_type": "display_data"
    },
    {
     "name": "stdout",
     "output_type": "stream",
     "text": [
      "auroc   0.6448336705261875\n",
      "KS   0.28966734105237496\n",
      "MSE   0.36623843782117166\n",
      "confusion_matrix   [[38853 24922]\n",
      " [10713 22812]]\n",
      "classification_report                 precision    recall  f1-score   support\n",
      "\n",
      "           0       0.78      0.61      0.69     63775\n",
      "           1       0.48      0.68      0.56     33525\n",
      "\n",
      "    accuracy                           0.63     97300\n",
      "   macro avg       0.63      0.64      0.62     97300\n",
      "weighted avg       0.68      0.63      0.64     97300\n",
      "\n",
      "Max_sample None Max_feature 150 Max_depht 10 Min_samples_split 0.0015\n"
     ]
    },
    {
     "data": {
      "image/png": "[encoded data removed]",
      "text/plain": [
       "<Figure size 432x288 with 1 Axes>"
      ]
     },
     "metadata": {},
     "output_type": "display_data"
    },
    {
     "name": "stdout",
     "output_type": "stream",
     "text": [
      "auroc   0.6460257810026686\n",
      "KS   0.29205156200533716\n",
      "MSE   0.3660945529290853\n",
      "confusion_matrix   [[38714 25061]\n",
      " [10560 22965]]\n",
      "classification_report                 precision    recall  f1-score   support\n",
      "\n",
      "           0       0.79      0.61      0.68     63775\n",
      "           1       0.48      0.69      0.56     33525\n",
      "\n",
      "    accuracy                           0.63     97300\n",
      "   macro avg       0.63      0.65      0.62     97300\n",
      "weighted avg       0.68      0.63      0.64     97300\n",
      "\n",
      "Max_sample None Max_feature 120 Max_depht 10 Min_samples_split 0.0015\n"
     ]
    },
    {
     "data": {
      "image/png": "[encoded data removed]",
      "text/plain": [
       "<Figure size 432x288 with 1 Axes>"
      ]
     },
     "metadata": {},
     "output_type": "display_data"
    },
    {
     "name": "stdout",
     "output_type": "stream",
     "text": [
      "auroc   0.6467244118564432\n",
      "KS   0.29344882371288644\n",
      "MSE   0.36602261048304213\n",
      "confusion_matrix   [[38630 25145]\n",
      " [10469 23056]]\n",
      "classification_report                 precision    recall  f1-score   support\n",
      "\n",
      "           0       0.79      0.61      0.68     63775\n",
      "           1       0.48      0.69      0.56     33525\n",
      "\n",
      "    accuracy                           0.63     97300\n",
      "   macro avg       0.63      0.65      0.62     97300\n",
      "weighted avg       0.68      0.63      0.64     97300\n",
      "\n",
      "Max_sample None Max_feature 90 Max_depht 10 Min_samples_split 0.0015\n"
     ]
    },
    {
     "data": {
      "image/png": "[encoded data removed]",
      "text/plain": [
       "<Figure size 432x288 with 1 Axes>"
      ]
     },
     "metadata": {},
     "output_type": "display_data"
    },
    {
     "name": "stdout",
     "output_type": "stream",
     "text": [
      "auroc   0.6465403603914887\n",
      "KS   0.29308072078297726\n",
      "MSE   0.3671634121274409\n",
      "confusion_matrix   [[38422 25353]\n",
      " [10372 23153]]\n",
      "classification_report                 precision    recall  f1-score   support\n",
      "\n",
      "           0       0.79      0.60      0.68     63775\n",
      "           1       0.48      0.69      0.56     33525\n",
      "\n",
      "    accuracy                           0.63     97300\n",
      "   macro avg       0.63      0.65      0.62     97300\n",
      "weighted avg       0.68      0.63      0.64     97300\n",
      "\n",
      "Max_sample None Max_feature 70 Max_depht 10 Min_samples_split 0.0015\n"
     ]
    },
    {
     "data": {
      "image/png": "[encoded data removed]",
      "text/plain": [
       "<Figure size 432x288 with 1 Axes>"
      ]
     },
     "metadata": {},
     "output_type": "display_data"
    },
    {
     "name": "stdout",
     "output_type": "stream",
     "text": [
      "auroc   0.6462533416001854\n",
      "KS   0.2925066832003709\n",
      "MSE   0.36750256937307296\n",
      "confusion_matrix   [[38393 25382]\n",
      " [10376 23149]]\n",
      "classification_report                 precision    recall  f1-score   support\n",
      "\n",
      "           0       0.79      0.60      0.68     63775\n",
      "           1       0.48      0.69      0.56     33525\n",
      "\n",
      "    accuracy                           0.63     97300\n",
      "   macro avg       0.63      0.65      0.62     97300\n",
      "weighted avg       0.68      0.63      0.64     97300\n",
      "\n",
      "Max_sample 0.75 Max_feature 244 Max_depht 10 Min_samples_split 0.0015\n"
     ]
    },
    {
     "data": {
      "image/png": "[encoded data removed]",
      "text/plain": [
       "<Figure size 432x288 with 1 Axes>"
      ]
     },
     "metadata": {},
     "output_type": "display_data"
    },
    {
     "name": "stdout",
     "output_type": "stream",
     "text": [
      "auroc   0.6430900955335905\n",
      "KS   0.28618019106718107\n",
      "MSE   0.3669475847893114\n",
      "confusion_matrix   [[38954 24821]\n",
      " [10883 22642]]\n",
      "classification_report                 precision    recall  f1-score   support\n",
      "\n",
      "           0       0.78      0.61      0.69     63775\n",
      "           1       0.48      0.68      0.56     33525\n",
      "\n",
      "    accuracy                           0.63     97300\n",
      "   macro avg       0.63      0.64      0.62     97300\n",
      "weighted avg       0.68      0.63      0.64     97300\n",
      "\n",
      "Max_sample 0.75 Max_feature 200 Max_depht 10 Min_samples_split 0.0015\n"
     ]
    },
    {
     "data": {
      "image/png": "[encoded data removed]",
      "text/plain": [
       "<Figure size 432x288 with 1 Axes>"
      ]
     },
     "metadata": {},
     "output_type": "display_data"
    },
    {
     "name": "stdout",
     "output_type": "stream",
     "text": [
      "auroc   0.6453341834042652\n",
      "KS   0.29066836680853037\n",
      "MSE   0.3665467625899281\n",
      "confusion_matrix   [[38719 25056]\n",
      " [10609 22916]]\n",
      "classification_report                 precision    recall  f1-score   support\n",
      "\n",
      "           0       0.78      0.61      0.68     63775\n",
      "           1       0.48      0.68      0.56     33525\n",
      "\n",
      "    accuracy                           0.63     97300\n",
      "   macro avg       0.63      0.65      0.62     97300\n",
      "weighted avg       0.68      0.63      0.64     97300\n",
      "\n",
      "Max_sample 0.75 Max_feature 150 Max_depht 10 Min_samples_split 0.0015\n"
     ]
    },
    {
     "data": {
      "image/png": "[encoded data removed]",
      "text/plain": [
       "<Figure size 432x288 with 1 Axes>"
      ]
     },
     "metadata": {},
     "output_type": "display_data"
    },
    {
     "name": "stdout",
     "output_type": "stream",
     "text": [
      "auroc   0.6462674724216586\n",
      "KS   0.29253494484331716\n",
      "MSE   0.3658890030832477\n",
      "confusion_matrix   [[38722 25053]\n",
      " [10548 22977]]\n",
      "classification_report                 precision    recall  f1-score   support\n",
      "\n",
      "           0       0.79      0.61      0.69     63775\n",
      "           1       0.48      0.69      0.56     33525\n",
      "\n",
      "    accuracy                           0.63     97300\n",
      "   macro avg       0.63      0.65      0.62     97300\n",
      "weighted avg       0.68      0.63      0.64     97300\n",
      "\n",
      "Max_sample 0.75 Max_feature 120 Max_depht 10 Min_samples_split 0.0015\n"
     ]
    },
    {
     "data": {
      "image/png": "[encoded data removed]",
      "text/plain": [
       "<Figure size 432x288 with 1 Axes>"
      ]
     },
     "metadata": {},
     "output_type": "display_data"
    },
    {
     "name": "stdout",
     "output_type": "stream",
     "text": [
      "auroc   0.6454074040944303\n",
      "KS   0.29081480818886074\n",
      "MSE   0.36660842754367934\n",
      "confusion_matrix   [[38696 25079]\n",
      " [10592 22933]]\n",
      "classification_report                 precision    recall  f1-score   support\n",
      "\n",
      "           0       0.79      0.61      0.68     63775\n",
      "           1       0.48      0.68      0.56     33525\n",
      "\n",
      "    accuracy                           0.63     97300\n",
      "   macro avg       0.63      0.65      0.62     97300\n",
      "weighted avg       0.68      0.63      0.64     97300\n",
      "\n",
      "Max_sample 0.75 Max_feature 90 Max_depht 10 Min_samples_split 0.0015\n"
     ]
    },
    {
     "data": {
      "image/png": "[encoded data removed]",
      "text/plain": [
       "<Figure size 432x288 with 1 Axes>"
      ]
     },
     "metadata": {},
     "output_type": "display_data"
    },
    {
     "name": "stdout",
     "output_type": "stream",
     "text": [
      "auroc   0.6459407680630573\n",
      "KS   0.2918815361261145\n",
      "MSE   0.36723535457348405\n",
      "confusion_matrix   [[38492 25283]\n",
      " [10449 23076]]\n",
      "classification_report                 precision    recall  f1-score   support\n",
      "\n",
      "           0       0.79      0.60      0.68     63775\n",
      "           1       0.48      0.69      0.56     33525\n",
      "\n",
      "    accuracy                           0.63     97300\n",
      "   macro avg       0.63      0.65      0.62     97300\n",
      "weighted avg       0.68      0.63      0.64     97300\n",
      "\n",
      "Max_sample 0.75 Max_feature 70 Max_depht 10 Min_samples_split 0.0015\n"
     ]
    },
    {
     "data": {
      "image/png": "[encoded data removed]",
      "text/plain": [
       "<Figure size 432x288 with 1 Axes>"
      ]
     },
     "metadata": {},
     "output_type": "display_data"
    },
    {
     "name": "stdout",
     "output_type": "stream",
     "text": [
      "auroc   0.6448783080197528\n",
      "KS   0.28975661603950553\n",
      "MSE   0.36896197327852004\n",
      "confusion_matrix   [[38288 25487]\n",
      " [10413 23112]]\n",
      "classification_report                 precision    recall  f1-score   support\n",
      "\n",
      "           0       0.79      0.60      0.68     63775\n",
      "           1       0.48      0.69      0.56     33525\n",
      "\n",
      "    accuracy                           0.63     97300\n",
      "   macro avg       0.63      0.64      0.62     97300\n",
      "weighted avg       0.68      0.63      0.64     97300\n",
      "\n",
      "Max_sample 0.6 Max_feature 244 Max_depht 10 Min_samples_split 0.0015\n"
     ]
    },
    {
     "ename": "KeyboardInterrupt",
     "evalue": "ignored",
     "output_type": "error",
     "traceback": [
      "\u001b[0;31m---------------------------------------------------------------------------\u001b[0m",
      "\u001b[0;31mKeyboardInterrupt\u001b[0m                         Traceback (most recent call last)",
      "\u001b[0;32m<ipython-input-16-2e1fc77a5ba1>\u001b[0m in \u001b[0;36m<module>\u001b[0;34m()\u001b[0m\n\u001b[1;32m      6\u001b[0m         \u001b[0mprint\u001b[0m\u001b[0;34m(\u001b[0m\u001b[0;34m\"Max_sample \"\u001b[0m \u001b[0;34m+\u001b[0m \u001b[0mstr\u001b[0m\u001b[0;34m(\u001b[0m\u001b[0mmax_sample\u001b[0m\u001b[0;34m)\u001b[0m \u001b[0;34m+\u001b[0m \u001b[0;34m\" Max_feature \"\u001b[0m \u001b[0;34m+\u001b[0m \u001b[0mstr\u001b[0m\u001b[0;34m(\u001b[0m\u001b[0mmax_feature\u001b[0m\u001b[0;34m)\u001b[0m \u001b[0;34m+\u001b[0m \u001b[0;34m\" Max_depht \"\u001b[0m \u001b[0;34m+\u001b[0m \u001b[0mstr\u001b[0m\u001b[0;34m(\u001b[0m\u001b[0mmax_depth\u001b[0m\u001b[0;34m)\u001b[0m \u001b[0;34m+\u001b[0m\u001b[0;34m\" Min_samples_split \"\u001b[0m \u001b[0;34m+\u001b[0m \u001b[0mstr\u001b[0m\u001b[0;34m(\u001b[0m\u001b[0mmin_samples_split\u001b[0m\u001b[0;34m)\u001b[0m\u001b[0;34m)\u001b[0m\u001b[0;34m\u001b[0m\u001b[0;34m\u001b[0m\u001b[0m\n\u001b[1;32m      7\u001b[0m         \u001b[0mRF_model\u001b[0m \u001b[0;34m=\u001b[0m \u001b[0mRandomForestClassifier\u001b[0m\u001b[0;34m(\u001b[0m\u001b[0mmax_depth\u001b[0m \u001b[0;34m=\u001b[0m \u001b[0mmax_depth\u001b[0m\u001b[0;34m,\u001b[0m \u001b[0mmax_samples\u001b[0m \u001b[0;34m=\u001b[0m \u001b[0mmax_sample\u001b[0m\u001b[0;34m,\u001b[0m \u001b[0mmax_features\u001b[0m \u001b[0;34m=\u001b[0m \u001b[0mmax_feature\u001b[0m\u001b[0;34m,\u001b[0m \u001b[0mmin_samples_split\u001b[0m \u001b[0;34m=\u001b[0m \u001b[0mmin_samples_split\u001b[0m\u001b[0;34m)\u001b[0m\u001b[0;34m\u001b[0m\u001b[0;34m\u001b[0m\u001b[0m\n\u001b[0;32m----> 8\u001b[0;31m         \u001b[0mRF_model\u001b[0m\u001b[0;34m.\u001b[0m\u001b[0mfit\u001b[0m\u001b[0;34m(\u001b[0m\u001b[0mtrain_x\u001b[0m\u001b[0;34m,\u001b[0m \u001b[0mtrain_Y\u001b[0m\u001b[0;34m)\u001b[0m\u001b[0;34m\u001b[0m\u001b[0;34m\u001b[0m\u001b[0m\n\u001b[0m\u001b[1;32m      9\u001b[0m         \u001b[0myhat\u001b[0m \u001b[0;34m=\u001b[0m \u001b[0mRF_model\u001b[0m\u001b[0;34m.\u001b[0m\u001b[0mpredict\u001b[0m\u001b[0;34m(\u001b[0m\u001b[0mtest_x\u001b[0m\u001b[0;34m)\u001b[0m\u001b[0;34m\u001b[0m\u001b[0;34m\u001b[0m\u001b[0m\n\u001b[1;32m     10\u001b[0m         \u001b[0my_proba\u001b[0m \u001b[0;34m=\u001b[0m \u001b[0mRF_model\u001b[0m\u001b[0;34m.\u001b[0m\u001b[0mpredict_proba\u001b[0m\u001b[0;34m(\u001b[0m\u001b[0mtest_x\u001b[0m\u001b[0;34m)\u001b[0m\u001b[0;34m\u001b[0m\u001b[0;34m\u001b[0m\u001b[0m\n",
      "\u001b[0;32m/usr/local/lib/python3.7/dist-packages/sklearn/ensemble/_forest.py\u001b[0m in \u001b[0;36mfit\u001b[0;34m(self, X, y, sample_weight)\u001b[0m\n\u001b[1;32m    465\u001b[0m                     \u001b[0mn_samples_bootstrap\u001b[0m\u001b[0;34m=\u001b[0m\u001b[0mn_samples_bootstrap\u001b[0m\u001b[0;34m,\u001b[0m\u001b[0;34m\u001b[0m\u001b[0;34m\u001b[0m\u001b[0m\n\u001b[1;32m    466\u001b[0m                 )\n\u001b[0;32m--> 467\u001b[0;31m                 \u001b[0;32mfor\u001b[0m \u001b[0mi\u001b[0m\u001b[0;34m,\u001b[0m \u001b[0mt\u001b[0m \u001b[0;32min\u001b[0m \u001b[0menumerate\u001b[0m\u001b[0;34m(\u001b[0m\u001b[0mtrees\u001b[0m\u001b[0;34m)\u001b[0m\u001b[0;34m\u001b[0m\u001b[0;34m\u001b[0m\u001b[0m\n\u001b[0m\u001b[1;32m    468\u001b[0m             )\n\u001b[1;32m    469\u001b[0m \u001b[0;34m\u001b[0m\u001b[0m\n",
      "\u001b[0;32m/usr/local/lib/python3.7/dist-packages/joblib/parallel.py\u001b[0m in \u001b[0;36m__call__\u001b[0;34m(self, iterable)\u001b[0m\n\u001b[1;32m   1044\u001b[0m                 \u001b[0mself\u001b[0m\u001b[0;34m.\u001b[0m\u001b[0m_iterating\u001b[0m \u001b[0;34m=\u001b[0m \u001b[0mself\u001b[0m\u001b[0;34m.\u001b[0m\u001b[0m_original_iterator\u001b[0m \u001b[0;32mis\u001b[0m \u001b[0;32mnot\u001b[0m \u001b[0;32mNone\u001b[0m\u001b[0;34m\u001b[0m\u001b[0;34m\u001b[0m\u001b[0m\n\u001b[1;32m   1045\u001b[0m \u001b[0;34m\u001b[0m\u001b[0m\n\u001b[0;32m-> 1046\u001b[0;31m             \u001b[0;32mwhile\u001b[0m \u001b[0mself\u001b[0m\u001b[0;34m.\u001b[0m\u001b[0mdispatch_one_batch\u001b[0m\u001b[0;34m(\u001b[0m\u001b[0miterator\u001b[0m\u001b[0;34m)\u001b[0m\u001b[0;34m:\u001b[0m\u001b[0;34m\u001b[0m\u001b[0;34m\u001b[0m\u001b[0m\n\u001b[0m\u001b[1;32m   1047\u001b[0m                 \u001b[0;32mpass\u001b[0m\u001b[0;34m\u001b[0m\u001b[0;34m\u001b[0m\u001b[0m\n\u001b[1;32m   1048\u001b[0m \u001b[0;34m\u001b[0m\u001b[0m\n",
      "\u001b[0;32m/usr/local/lib/python3.7/dist-packages/joblib/parallel.py\u001b[0m in \u001b[0;36mdispatch_one_batch\u001b[0;34m(self, iterator)\u001b[0m\n\u001b[1;32m    859\u001b[0m                 \u001b[0;32mreturn\u001b[0m \u001b[0;32mFalse\u001b[0m\u001b[0;34m\u001b[0m\u001b[0;34m\u001b[0m\u001b[0m\n\u001b[1;32m    860\u001b[0m             \u001b[0;32melse\u001b[0m\u001b[0;34m:\u001b[0m\u001b[0;34m\u001b[0m\u001b[0;34m\u001b[0m\u001b[0m\n\u001b[0;32m--> 861\u001b[0;31m                 \u001b[0mself\u001b[0m\u001b[0;34m.\u001b[0m\u001b[0m_dispatch\u001b[0m\u001b[0;34m(\u001b[0m\u001b[0mtasks\u001b[0m\u001b[0;34m)\u001b[0m\u001b[0;34m\u001b[0m\u001b[0;34m\u001b[0m\u001b[0m\n\u001b[0m\u001b[1;32m    862\u001b[0m                 \u001b[0;32mreturn\u001b[0m \u001b[0;32mTrue\u001b[0m\u001b[0;34m\u001b[0m\u001b[0;34m\u001b[0m\u001b[0m\n\u001b[1;32m    863\u001b[0m \u001b[0;34m\u001b[0m\u001b[0m\n",
      "\u001b[0;32m/usr/local/lib/python3.7/dist-packages/joblib/parallel.py\u001b[0m in \u001b[0;36m_dispatch\u001b[0;34m(self, batch)\u001b[0m\n\u001b[1;32m    777\u001b[0m         \u001b[0;32mwith\u001b[0m \u001b[0mself\u001b[0m\u001b[0;34m.\u001b[0m\u001b[0m_lock\u001b[0m\u001b[0;34m:\u001b[0m\u001b[0;34m\u001b[0m\u001b[0;34m\u001b[0m\u001b[0m\n\u001b[1;32m    778\u001b[0m             \u001b[0mjob_idx\u001b[0m \u001b[0;34m=\u001b[0m \u001b[0mlen\u001b[0m\u001b[0;34m(\u001b[0m\u001b[0mself\u001b[0m\u001b[0;34m.\u001b[0m\u001b[0m_jobs\u001b[0m\u001b[0;34m)\u001b[0m\u001b[0;34m\u001b[0m\u001b[0;34m\u001b[0m\u001b[0m\n\u001b[0;32m--> 779\u001b[0;31m             \u001b[0mjob\u001b[0m \u001b[0;34m=\u001b[0m \u001b[0mself\u001b[0m\u001b[0;34m.\u001b[0m\u001b[0m_backend\u001b[0m\u001b[0;34m.\u001b[0m\u001b[0mapply_async\u001b[0m\u001b[0;34m(\u001b[0m\u001b[0mbatch\u001b[0m\u001b[0;34m,\u001b[0m \u001b[0mcallback\u001b[0m\u001b[0;34m=\u001b[0m\u001b[0mcb\u001b[0m\u001b[0;34m)\u001b[0m\u001b[0;34m\u001b[0m\u001b[0;34m\u001b[0m\u001b[0m\n\u001b[0m\u001b[1;32m    780\u001b[0m             \u001b[0;31m# A job can complete so quickly than its callback is\u001b[0m\u001b[0;34m\u001b[0m\u001b[0;34m\u001b[0m\u001b[0;34m\u001b[0m\u001b[0m\n\u001b[1;32m    781\u001b[0m             \u001b[0;31m# called before we get here, causing self._jobs to\u001b[0m\u001b[0;34m\u001b[0m\u001b[0;34m\u001b[0m\u001b[0;34m\u001b[0m\u001b[0m\n",
      "\u001b[0;32m/usr/local/lib/python3.7/dist-packages/joblib/_parallel_backends.py\u001b[0m in \u001b[0;36mapply_async\u001b[0;34m(self, func, callback)\u001b[0m\n\u001b[1;32m    206\u001b[0m     \u001b[0;32mdef\u001b[0m \u001b[0mapply_async\u001b[0m\u001b[0;34m(\u001b[0m\u001b[0mself\u001b[0m\u001b[0;34m,\u001b[0m \u001b[0mfunc\u001b[0m\u001b[0;34m,\u001b[0m \u001b[0mcallback\u001b[0m\u001b[0;34m=\u001b[0m\u001b[0;32mNone\u001b[0m\u001b[0;34m)\u001b[0m\u001b[0;34m:\u001b[0m\u001b[0;34m\u001b[0m\u001b[0;34m\u001b[0m\u001b[0m\n\u001b[1;32m    207\u001b[0m         \u001b[0;34m\"\"\"Schedule a func to be run\"\"\"\u001b[0m\u001b[0;34m\u001b[0m\u001b[0;34m\u001b[0m\u001b[0m\n\u001b[0;32m--> 208\u001b[0;31m         \u001b[0mresult\u001b[0m \u001b[0;34m=\u001b[0m \u001b[0mImmediateResult\u001b[0m\u001b[0;34m(\u001b[0m\u001b[0mfunc\u001b[0m\u001b[0;34m)\u001b[0m\u001b[0;34m\u001b[0m\u001b[0;34m\u001b[0m\u001b[0m\n\u001b[0m\u001b[1;32m    209\u001b[0m         \u001b[0;32mif\u001b[0m \u001b[0mcallback\u001b[0m\u001b[0;34m:\u001b[0m\u001b[0;34m\u001b[0m\u001b[0;34m\u001b[0m\u001b[0m\n\u001b[1;32m    210\u001b[0m             \u001b[0mcallback\u001b[0m\u001b[0;34m(\u001b[0m\u001b[0mresult\u001b[0m\u001b[0;34m)\u001b[0m\u001b[0;34m\u001b[0m\u001b[0;34m\u001b[0m\u001b[0m\n",
      "\u001b[0;32m/usr/local/lib/python3.7/dist-packages/joblib/_parallel_backends.py\u001b[0m in \u001b[0;36m__init__\u001b[0;34m(self, batch)\u001b[0m\n\u001b[1;32m    570\u001b[0m         \u001b[0;31m# Don't delay the application, to avoid keeping the input\u001b[0m\u001b[0;34m\u001b[0m\u001b[0;34m\u001b[0m\u001b[0;34m\u001b[0m\u001b[0m\n\u001b[1;32m    571\u001b[0m         \u001b[0;31m# arguments in memory\u001b[0m\u001b[0;34m\u001b[0m\u001b[0;34m\u001b[0m\u001b[0;34m\u001b[0m\u001b[0m\n\u001b[0;32m--> 572\u001b[0;31m         \u001b[0mself\u001b[0m\u001b[0;34m.\u001b[0m\u001b[0mresults\u001b[0m \u001b[0;34m=\u001b[0m \u001b[0mbatch\u001b[0m\u001b[0;34m(\u001b[0m\u001b[0;34m)\u001b[0m\u001b[0;34m\u001b[0m\u001b[0;34m\u001b[0m\u001b[0m\n\u001b[0m\u001b[1;32m    573\u001b[0m \u001b[0;34m\u001b[0m\u001b[0m\n\u001b[1;32m    574\u001b[0m     \u001b[0;32mdef\u001b[0m \u001b[0mget\u001b[0m\u001b[0;34m(\u001b[0m\u001b[0mself\u001b[0m\u001b[0;34m)\u001b[0m\u001b[0;34m:\u001b[0m\u001b[0;34m\u001b[0m\u001b[0;34m\u001b[0m\u001b[0m\n",
      "\u001b[0;32m/usr/local/lib/python3.7/dist-packages/joblib/parallel.py\u001b[0m in \u001b[0;36m__call__\u001b[0;34m(self)\u001b[0m\n\u001b[1;32m    261\u001b[0m         \u001b[0;32mwith\u001b[0m \u001b[0mparallel_backend\u001b[0m\u001b[0;34m(\u001b[0m\u001b[0mself\u001b[0m\u001b[0;34m.\u001b[0m\u001b[0m_backend\u001b[0m\u001b[0;34m,\u001b[0m \u001b[0mn_jobs\u001b[0m\u001b[0;34m=\u001b[0m\u001b[0mself\u001b[0m\u001b[0;34m.\u001b[0m\u001b[0m_n_jobs\u001b[0m\u001b[0;34m)\u001b[0m\u001b[0;34m:\u001b[0m\u001b[0;34m\u001b[0m\u001b[0;34m\u001b[0m\u001b[0m\n\u001b[1;32m    262\u001b[0m             return [func(*args, **kwargs)\n\u001b[0;32m--> 263\u001b[0;31m                     for func, args, kwargs in self.items]\n\u001b[0m\u001b[1;32m    264\u001b[0m \u001b[0;34m\u001b[0m\u001b[0m\n\u001b[1;32m    265\u001b[0m     \u001b[0;32mdef\u001b[0m \u001b[0m__reduce__\u001b[0m\u001b[0;34m(\u001b[0m\u001b[0mself\u001b[0m\u001b[0;34m)\u001b[0m\u001b[0;34m:\u001b[0m\u001b[0;34m\u001b[0m\u001b[0;34m\u001b[0m\u001b[0m\n",
      "\u001b[0;32m/usr/local/lib/python3.7/dist-packages/joblib/parallel.py\u001b[0m in \u001b[0;36m<listcomp>\u001b[0;34m(.0)\u001b[0m\n\u001b[1;32m    261\u001b[0m         \u001b[0;32mwith\u001b[0m \u001b[0mparallel_backend\u001b[0m\u001b[0;34m(\u001b[0m\u001b[0mself\u001b[0m\u001b[0;34m.\u001b[0m\u001b[0m_backend\u001b[0m\u001b[0;34m,\u001b[0m \u001b[0mn_jobs\u001b[0m\u001b[0;34m=\u001b[0m\u001b[0mself\u001b[0m\u001b[0;34m.\u001b[0m\u001b[0m_n_jobs\u001b[0m\u001b[0;34m)\u001b[0m\u001b[0;34m:\u001b[0m\u001b[0;34m\u001b[0m\u001b[0;34m\u001b[0m\u001b[0m\n\u001b[1;32m    262\u001b[0m             return [func(*args, **kwargs)\n\u001b[0;32m--> 263\u001b[0;31m                     for func, args, kwargs in self.items]\n\u001b[0m\u001b[1;32m    264\u001b[0m \u001b[0;34m\u001b[0m\u001b[0m\n\u001b[1;32m    265\u001b[0m     \u001b[0;32mdef\u001b[0m \u001b[0m__reduce__\u001b[0m\u001b[0;34m(\u001b[0m\u001b[0mself\u001b[0m\u001b[0;34m)\u001b[0m\u001b[0;34m:\u001b[0m\u001b[0;34m\u001b[0m\u001b[0;34m\u001b[0m\u001b[0m\n",
      "\u001b[0;32m/usr/local/lib/python3.7/dist-packages/sklearn/utils/fixes.py\u001b[0m in \u001b[0;36m__call__\u001b[0;34m(self, *args, **kwargs)\u001b[0m\n\u001b[1;32m    214\u001b[0m     \u001b[0;32mdef\u001b[0m \u001b[0m__call__\u001b[0m\u001b[0;34m(\u001b[0m\u001b[0mself\u001b[0m\u001b[0;34m,\u001b[0m \u001b[0;34m*\u001b[0m\u001b[0margs\u001b[0m\u001b[0;34m,\u001b[0m \u001b[0;34m**\u001b[0m\u001b[0mkwargs\u001b[0m\u001b[0;34m)\u001b[0m\u001b[0;34m:\u001b[0m\u001b[0;34m\u001b[0m\u001b[0;34m\u001b[0m\u001b[0m\n\u001b[1;32m    215\u001b[0m         \u001b[0;32mwith\u001b[0m \u001b[0mconfig_context\u001b[0m\u001b[0;34m(\u001b[0m\u001b[0;34m**\u001b[0m\u001b[0mself\u001b[0m\u001b[0;34m.\u001b[0m\u001b[0mconfig\u001b[0m\u001b[0;34m)\u001b[0m\u001b[0;34m:\u001b[0m\u001b[0;34m\u001b[0m\u001b[0;34m\u001b[0m\u001b[0m\n\u001b[0;32m--> 216\u001b[0;31m             \u001b[0;32mreturn\u001b[0m \u001b[0mself\u001b[0m\u001b[0;34m.\u001b[0m\u001b[0mfunction\u001b[0m\u001b[0;34m(\u001b[0m\u001b[0;34m*\u001b[0m\u001b[0margs\u001b[0m\u001b[0;34m,\u001b[0m \u001b[0;34m**\u001b[0m\u001b[0mkwargs\u001b[0m\u001b[0;34m)\u001b[0m\u001b[0;34m\u001b[0m\u001b[0;34m\u001b[0m\u001b[0m\n\u001b[0m\u001b[1;32m    217\u001b[0m \u001b[0;34m\u001b[0m\u001b[0m\n\u001b[1;32m    218\u001b[0m \u001b[0;34m\u001b[0m\u001b[0m\n",
      "\u001b[0;32m/usr/local/lib/python3.7/dist-packages/sklearn/ensemble/_forest.py\u001b[0m in \u001b[0;36m_parallel_build_trees\u001b[0;34m(tree, forest, X, y, sample_weight, tree_idx, n_trees, verbose, class_weight, n_samples_bootstrap)\u001b[0m\n\u001b[1;32m    183\u001b[0m             \u001b[0mcurr_sample_weight\u001b[0m \u001b[0;34m*=\u001b[0m \u001b[0mcompute_sample_weight\u001b[0m\u001b[0;34m(\u001b[0m\u001b[0;34m\"balanced\"\u001b[0m\u001b[0;34m,\u001b[0m \u001b[0my\u001b[0m\u001b[0;34m,\u001b[0m \u001b[0mindices\u001b[0m\u001b[0;34m=\u001b[0m\u001b[0mindices\u001b[0m\u001b[0;34m)\u001b[0m\u001b[0;34m\u001b[0m\u001b[0;34m\u001b[0m\u001b[0m\n\u001b[1;32m    184\u001b[0m \u001b[0;34m\u001b[0m\u001b[0m\n\u001b[0;32m--> 185\u001b[0;31m         \u001b[0mtree\u001b[0m\u001b[0;34m.\u001b[0m\u001b[0mfit\u001b[0m\u001b[0;34m(\u001b[0m\u001b[0mX\u001b[0m\u001b[0;34m,\u001b[0m \u001b[0my\u001b[0m\u001b[0;34m,\u001b[0m \u001b[0msample_weight\u001b[0m\u001b[0;34m=\u001b[0m\u001b[0mcurr_sample_weight\u001b[0m\u001b[0;34m,\u001b[0m \u001b[0mcheck_input\u001b[0m\u001b[0;34m=\u001b[0m\u001b[0;32mFalse\u001b[0m\u001b[0;34m)\u001b[0m\u001b[0;34m\u001b[0m\u001b[0;34m\u001b[0m\u001b[0m\n\u001b[0m\u001b[1;32m    186\u001b[0m     \u001b[0;32melse\u001b[0m\u001b[0;34m:\u001b[0m\u001b[0;34m\u001b[0m\u001b[0;34m\u001b[0m\u001b[0m\n\u001b[1;32m    187\u001b[0m         \u001b[0mtree\u001b[0m\u001b[0;34m.\u001b[0m\u001b[0mfit\u001b[0m\u001b[0;34m(\u001b[0m\u001b[0mX\u001b[0m\u001b[0;34m,\u001b[0m \u001b[0my\u001b[0m\u001b[0;34m,\u001b[0m \u001b[0msample_weight\u001b[0m\u001b[0;34m=\u001b[0m\u001b[0msample_weight\u001b[0m\u001b[0;34m,\u001b[0m \u001b[0mcheck_input\u001b[0m\u001b[0;34m=\u001b[0m\u001b[0;32mFalse\u001b[0m\u001b[0;34m)\u001b[0m\u001b[0;34m\u001b[0m\u001b[0;34m\u001b[0m\u001b[0m\n",
      "\u001b[0;32m/usr/local/lib/python3.7/dist-packages/sklearn/tree/_classes.py\u001b[0m in \u001b[0;36mfit\u001b[0;34m(self, X, y, sample_weight, check_input, X_idx_sorted)\u001b[0m\n\u001b[1;32m    940\u001b[0m             \u001b[0msample_weight\u001b[0m\u001b[0;34m=\u001b[0m\u001b[0msample_weight\u001b[0m\u001b[0;34m,\u001b[0m\u001b[0;34m\u001b[0m\u001b[0;34m\u001b[0m\u001b[0m\n\u001b[1;32m    941\u001b[0m             \u001b[0mcheck_input\u001b[0m\u001b[0;34m=\u001b[0m\u001b[0mcheck_input\u001b[0m\u001b[0;34m,\u001b[0m\u001b[0;34m\u001b[0m\u001b[0;34m\u001b[0m\u001b[0m\n\u001b[0;32m--> 942\u001b[0;31m             \u001b[0mX_idx_sorted\u001b[0m\u001b[0;34m=\u001b[0m\u001b[0mX_idx_sorted\u001b[0m\u001b[0;34m,\u001b[0m\u001b[0;34m\u001b[0m\u001b[0;34m\u001b[0m\u001b[0m\n\u001b[0m\u001b[1;32m    943\u001b[0m         )\n\u001b[1;32m    944\u001b[0m         \u001b[0;32mreturn\u001b[0m \u001b[0mself\u001b[0m\u001b[0;34m\u001b[0m\u001b[0;34m\u001b[0m\u001b[0m\n",
      "\u001b[0;32m/usr/local/lib/python3.7/dist-packages/sklearn/tree/_classes.py\u001b[0m in \u001b[0;36mfit\u001b[0;34m(self, X, y, sample_weight, check_input, X_idx_sorted)\u001b[0m\n\u001b[1;32m    418\u001b[0m             )\n\u001b[1;32m    419\u001b[0m \u001b[0;34m\u001b[0m\u001b[0m\n\u001b[0;32m--> 420\u001b[0;31m         \u001b[0mbuilder\u001b[0m\u001b[0;34m.\u001b[0m\u001b[0mbuild\u001b[0m\u001b[0;34m(\u001b[0m\u001b[0mself\u001b[0m\u001b[0;34m.\u001b[0m\u001b[0mtree_\u001b[0m\u001b[0;34m,\u001b[0m \u001b[0mX\u001b[0m\u001b[0;34m,\u001b[0m \u001b[0my\u001b[0m\u001b[0;34m,\u001b[0m \u001b[0msample_weight\u001b[0m\u001b[0;34m)\u001b[0m\u001b[0;34m\u001b[0m\u001b[0;34m\u001b[0m\u001b[0m\n\u001b[0m\u001b[1;32m    421\u001b[0m \u001b[0;34m\u001b[0m\u001b[0m\n\u001b[1;32m    422\u001b[0m         \u001b[0;32mif\u001b[0m \u001b[0mself\u001b[0m\u001b[0;34m.\u001b[0m\u001b[0mn_outputs_\u001b[0m \u001b[0;34m==\u001b[0m \u001b[0;36m1\u001b[0m \u001b[0;32mand\u001b[0m \u001b[0mis_classifier\u001b[0m\u001b[0;34m(\u001b[0m\u001b[0mself\u001b[0m\u001b[0;34m)\u001b[0m\u001b[0;34m:\u001b[0m\u001b[0;34m\u001b[0m\u001b[0;34m\u001b[0m\u001b[0m\n",
      "\u001b[0;31mKeyboardInterrupt\u001b[0m: "
     ]
    }
   ],
   "source": [
    "#Experiments via grid_search\n",
    "for max_sample in max_samples:\n",
    "  for max_feature in max_features:\n",
    "    for max_depth in max_depths:\n",
    "      for min_samples_split in min_samples_splits:\n",
    "        print(\"Max_sample \" + str(max_sample) + \" Max_feature \" + str(max_feature) + \" Max_depht \" + str(max_depth) +\" Min_samples_split \" + str(min_samples_split))\n",
    "        RF_model = RandomForestClassifier(max_depth = max_depth, max_samples = max_sample, max_features = max_feature, min_samples_split = min_samples_split)\n",
    "        RF_model.fit(train_x, train_Y)\n",
    "        yhat = RF_model.predict(test_x)\n",
    "        y_proba = RF_model.predict_proba(test_x)\n",
    "        result = get_metrics(test_Y, yhat, y_proba)\n",
    "        RF_test_results.append(({\"max_sample\" : max_sample,\"max_feature\":max_feature}, result))"
   ]
  },
  {
   "cell_type": "code",
   "execution_count": null,
   "metadata": {
    "colab": {
     "base_uri": "https://localhost:8080/",
     "height": 280
    },
    "id": "dmuYZX3E3VZ6",
    "outputId": "38894cd2-7201-48f1-b41f-1ad210f2e9b3"
   },
   "outputs": [
    {
     "data": {
      "image/png": "[encoded data removed]",
      "text/plain": [
       "<Figure size 432x288 with 1 Axes>"
      ]
     },
     "metadata": {},
     "output_type": "display_data"
    }
   ],
   "source": [
    "results_ks = []\n",
    "results_auroc = []\n",
    "for dic, result in RF_test_results:\n",
    "  if (dic['max_sample'] == 0.75):\n",
    "    results_ks.append(result['KS'])\n",
    "    results_auroc.append(result['auroc'])\n",
    "  \n",
    "normalized_max_features = []\n",
    "for i in max_features:\n",
    "  normalized_max_features.append((i-70/244-70)/244)\n",
    "\n",
    "plt.plot(normalized_max_features, results_ks, label = \"KS\")\n",
    "plt.plot(normalized_max_features, results_auroc, label = \"Auroc\")\n",
    "plt.xlabel('normalized_max_features') \n",
    "plt.ylabel('KS and Auroc') \n",
    "plt.legend()\n",
    "plt.show()"
   ]
  },
  {
   "cell_type": "markdown",
   "metadata": {
    "id": "mWOcSuioLvzn"
   },
   "source": [
    "### Second set of experiments\n",
    "After finding the best hyper_parameters on the above experiments we proceeded looking at the effect of changes on the number of estimators."
   ]
  },
  {
   "cell_type": "code",
   "execution_count": null,
   "metadata": {
    "id": "SeLibYJ-2DU2"
   },
   "outputs": [],
   "source": [
    "# Set of hyper-parameters for grid search\n",
    "\n",
    "n_estimators = [100, 110, 120, 130]\n",
    "#Found the bellow parameters after severale experiments\n",
    "max_samples = [0.75]\n",
    "max_features =  [130]\n",
    "max_depths = [10]\n",
    "min_samples_splits = [0.0015]\n",
    "RF_test_results = []"
   ]
  },
  {
   "cell_type": "code",
   "execution_count": null,
   "metadata": {
    "colab": {
     "base_uri": "https://localhost:8080/",
     "height": 1000
    },
    "id": "MtgrccUz2DU3",
    "outputId": "7e460b7e-4027-4e59-a441-8062fc643130"
   },
   "outputs": [
    {
     "name": "stdout",
     "output_type": "stream",
     "text": [
      "N_estimators 100 Max_sample 0.75 Max_feature 130 Max_depht 10 Min_samples_split 0.0015\n"
     ]
    },
    {
     "data": {
      "image/png": "[encoded data removed]",
      "text/plain": [
       "<Figure size 432x288 with 1 Axes>"
      ]
     },
     "metadata": {},
     "output_type": "display_data"
    },
    {
     "name": "stdout",
     "output_type": "stream",
     "text": [
      "auroc   0.6462865785551192\n",
      "KS   0.29257315711023824\n",
      "MSE   0.36601233299075026\n",
      "confusion_matrix   [[38694 25081]\n",
      " [10532 22993]]\n",
      "classification_report                 precision    recall  f1-score   support\n",
      "\n",
      "           0       0.79      0.61      0.68     63775\n",
      "           1       0.48      0.69      0.56     33525\n",
      "\n",
      "    accuracy                           0.63     97300\n",
      "   macro avg       0.63      0.65      0.62     97300\n",
      "weighted avg       0.68      0.63      0.64     97300\n",
      "\n",
      "N_estimators 110 Max_sample 0.75 Max_feature 130 Max_depht 10 Min_samples_split 0.0015\n"
     ]
    },
    {
     "data": {
      "image/png": "[encoded data removed]",
      "text/plain": [
       "<Figure size 432x288 with 1 Axes>"
      ]
     },
     "metadata": {},
     "output_type": "display_data"
    },
    {
     "name": "stdout",
     "output_type": "stream",
     "text": [
      "auroc   0.6461701059753147\n",
      "KS   0.2923402119506292\n",
      "MSE   0.3663412127440904\n",
      "confusion_matrix   [[38643 25132]\n",
      " [10513 23012]]\n",
      "classification_report                 precision    recall  f1-score   support\n",
      "\n",
      "           0       0.79      0.61      0.68     63775\n",
      "           1       0.48      0.69      0.56     33525\n",
      "\n",
      "    accuracy                           0.63     97300\n",
      "   macro avg       0.63      0.65      0.62     97300\n",
      "weighted avg       0.68      0.63      0.64     97300\n",
      "\n",
      "N_estimators 120 Max_sample 0.75 Max_feature 130 Max_depht 10 Min_samples_split 0.0015\n"
     ]
    },
    {
     "data": {
      "image/png": "[encoded data removed]",
      "text/plain": [
       "<Figure size 432x288 with 1 Axes>"
      ]
     },
     "metadata": {},
     "output_type": "display_data"
    },
    {
     "name": "stdout",
     "output_type": "stream",
     "text": [
      "auroc   0.6458319952316516\n",
      "KS   0.29166399046330327\n",
      "MSE   0.36708119218910584\n",
      "confusion_matrix   [[38539 25236]\n",
      " [10481 23044]]\n",
      "classification_report                 precision    recall  f1-score   support\n",
      "\n",
      "           0       0.79      0.60      0.68     63775\n",
      "           1       0.48      0.69      0.56     33525\n",
      "\n",
      "    accuracy                           0.63     97300\n",
      "   macro avg       0.63      0.65      0.62     97300\n",
      "weighted avg       0.68      0.63      0.64     97300\n",
      "\n",
      "N_estimators 130 Max_sample 0.75 Max_feature 130 Max_depht 10 Min_samples_split 0.0015\n"
     ]
    },
    {
     "data": {
      "image/png": "[encoded data removed]",
      "text/plain": [
       "<Figure size 432x288 with 1 Axes>"
      ]
     },
     "metadata": {},
     "output_type": "display_data"
    },
    {
     "name": "stdout",
     "output_type": "stream",
     "text": [
      "auroc   0.6456337778666436\n",
      "KS   0.29126755573328705\n",
      "MSE   0.36660842754367934\n",
      "confusion_matrix   [[38664 25111]\n",
      " [10560 22965]]\n",
      "classification_report                 precision    recall  f1-score   support\n",
      "\n",
      "           0       0.79      0.61      0.68     63775\n",
      "           1       0.48      0.69      0.56     33525\n",
      "\n",
      "    accuracy                           0.63     97300\n",
      "   macro avg       0.63      0.65      0.62     97300\n",
      "weighted avg       0.68      0.63      0.64     97300\n",
      "\n"
     ]
    }
   ],
   "source": [
    "#Experiments via grid_search\n",
    "for n_estimator in n_estimators:\n",
    "  for max_sample in max_samples:\n",
    "    for max_feature in max_features:\n",
    "      for max_depth in max_depths:\n",
    "        for min_samples_split in min_samples_splits:\n",
    "          print(\"N_estimators \" + str(n_estimator) + \" Max_sample \" + str(max_sample) + \" Max_feature \" + str(max_feature) + \" Max_depht \" + str(max_depth) +\" Min_samples_split \" + str(min_samples_split))\n",
    "          RF_model = RandomForestClassifier(max_depth = max_depth, max_samples = max_sample, max_features = max_feature, min_samples_split = min_samples_split)\n",
    "          RF_model.fit(train_x, train_Y)\n",
    "          yhat = RF_model.predict(test_x)\n",
    "          y_proba = RF_model.predict_proba(test_x)\n",
    "          result = get_metrics(test_Y, yhat, y_proba)\n",
    "          RF_test_results.append((n_estimator, result))"
   ]
  },
  {
   "cell_type": "code",
   "execution_count": null,
   "metadata": {
    "colab": {
     "base_uri": "https://localhost:8080/",
     "height": 280
    },
    "id": "EXKsCHnZ8E_a",
    "outputId": "7610d1ca-96ce-4d76-c500-6ea4cfa63e75"
   },
   "outputs": [
    {
     "data": {
      "image/png": "[encoded data removed]",
      "text/plain": [
       "<Figure size 432x288 with 1 Axes>"
      ]
     },
     "metadata": {},
     "output_type": "display_data"
    }
   ],
   "source": [
    "results_ks = []\n",
    "results_auroc = []\n",
    "for _, result in RF_test_results:\n",
    "  results_ks.append(result['KS'])\n",
    "  results_auroc.append(result['auroc'])\n",
    "\n",
    "normalized_n_estimators = []\n",
    "for i in n_estimators:\n",
    "  normalized_n_estimators.append((i-100/130-100)/30)\n",
    "\n",
    "plt.plot(normalized_n_estimators, results_ks, label = \"KS\")\n",
    "plt.plot(normalized_n_estimators, results_auroc, label = \"Auroc\")\n",
    "plt.xlabel('normalized_n_estimators') \n",
    "plt.ylabel('KS and Auroc') \n",
    "plt.legend()\n",
    "plt.show()\n"
   ]
  }
 ],
 "metadata": {
  "colab": {
   "collapsed_sections": [
    "tl9-IF9_2DUc",
    "nUluB-Yd2DUz",
    "DV24CkGE5X0-",
    "TyliOnHKyZnk",
    "6cjORznD2DU2",
    "zDMl5kjfLqcg"
   ],
   "name": "credit-risk-analysis.ipynb",
   "provenance": []
  },
  "kernelspec": {
   "display_name": "Python 3 (ipykernel)",
   "language": "python",
   "name": "python3"
  },
  "language_info": {
   "codemirror_mode": {
    "name": "ipython",
    "version": 3
   },
   "file_extension": ".py",
   "mimetype": "text/x-python",
   "name": "python",
   "nbconvert_exporter": "python",
   "pygments_lexer": "ipython3",
   "version": "3.9.4"
  },
  "widgets": {
   "application/vnd.jupyter.widget-state+json": {
    "0b8c8bebfc584b1f82f534f1e5d85a37": {
     "model_module": "@jupyter-widgets/controls",
     "model_module_version": "1.5.0",
     "model_name": "DescriptionStyleModel",
     "state": {
      "_model_module": "@jupyter-widgets/controls",
      "_model_module_version": "1.5.0",
      "_model_name": "DescriptionStyleModel",
      "_view_count": null,
      "_view_module": "@jupyter-widgets/base",
      "_view_module_version": "1.2.0",
      "_view_name": "StyleView",
      "description_width": ""
     }
    },
    "1341114e673c4de7a0c968437bedc5ad": {
     "model_module": "@jupyter-widgets/controls",
     "model_module_version": "1.5.0",
     "model_name": "DescriptionStyleModel",
     "state": {
      "_model_module": "@jupyter-widgets/controls",
      "_model_module_version": "1.5.0",
      "_model_name": "DescriptionStyleModel",
      "_view_count": null,
      "_view_module": "@jupyter-widgets/base",
      "_view_module_version": "1.2.0",
      "_view_name": "StyleView",
      "description_width": ""
     }
    },
    "2673d62822264fcc8844d91af7ade870": {
     "model_module": "@jupyter-widgets/base",
     "model_module_version": "1.2.0",
     "model_name": "LayoutModel",
     "state": {
      "_model_module": "@jupyter-widgets/base",
      "_model_module_version": "1.2.0",
      "_model_name": "LayoutModel",
      "_view_count": null,
      "_view_module": "@jupyter-widgets/base",
      "_view_module_version": "1.2.0",
      "_view_name": "LayoutView",
      "align_content": null,
      "align_items": null,
      "align_self": null,
      "border": null,
      "bottom": null,
      "display": null,
      "flex": null,
      "flex_flow": null,
      "grid_area": null,
      "grid_auto_columns": null,
      "grid_auto_flow": null,
      "grid_auto_rows": null,
      "grid_column": null,
      "grid_gap": null,
      "grid_row": null,
      "grid_template_areas": null,
      "grid_template_columns": null,
      "grid_template_rows": null,
      "height": null,
      "justify_content": null,
      "justify_items": null,
      "left": null,
      "margin": null,
      "max_height": null,
      "max_width": null,
      "min_height": null,
      "min_width": null,
      "object_fit": null,
      "object_position": null,
      "order": null,
      "overflow": null,
      "overflow_x": null,
      "overflow_y": null,
      "padding": null,
      "right": null,
      "top": null,
      "visibility": null,
      "width": null
     }
    },
    "3072e9e4bab44ad48afdad2e1bba7801": {
     "model_module": "@jupyter-widgets/base",
     "model_module_version": "1.2.0",
     "model_name": "LayoutModel",
     "state": {
      "_model_module": "@jupyter-widgets/base",
      "_model_module_version": "1.2.0",
      "_model_name": "LayoutModel",
      "_view_count": null,
      "_view_module": "@jupyter-widgets/base",
      "_view_module_version": "1.2.0",
      "_view_name": "LayoutView",
      "align_content": null,
      "align_items": null,
      "align_self": null,
      "border": null,
      "bottom": null,
      "display": null,
      "flex": null,
      "flex_flow": null,
      "grid_area": null,
      "grid_auto_columns": null,
      "grid_auto_flow": null,
      "grid_auto_rows": null,
      "grid_column": null,
      "grid_gap": null,
      "grid_row": null,
      "grid_template_areas": null,
      "grid_template_columns": null,
      "grid_template_rows": null,
      "height": null,
      "justify_content": null,
      "justify_items": null,
      "left": null,
      "margin": null,
      "max_height": null,
      "max_width": null,
      "min_height": null,
      "min_width": null,
      "object_fit": null,
      "object_position": null,
      "order": null,
      "overflow": null,
      "overflow_x": null,
      "overflow_y": null,
      "padding": null,
      "right": null,
      "top": null,
      "visibility": null,
      "width": null
     }
    },
    "3ef7745baae5491395faa0cbe4b97c72": {
     "model_module": "@jupyter-widgets/base",
     "model_module_version": "1.2.0",
     "model_name": "LayoutModel",
     "state": {
      "_model_module": "@jupyter-widgets/base",
      "_model_module_version": "1.2.0",
      "_model_name": "LayoutModel",
      "_view_count": null,
      "_view_module": "@jupyter-widgets/base",
      "_view_module_version": "1.2.0",
      "_view_name": "LayoutView",
      "align_content": null,
      "align_items": null,
      "align_self": null,
      "border": null,
      "bottom": null,
      "display": null,
      "flex": null,
      "flex_flow": null,
      "grid_area": null,
      "grid_auto_columns": null,
      "grid_auto_flow": null,
      "grid_auto_rows": null,
      "grid_column": null,
      "grid_gap": null,
      "grid_row": null,
      "grid_template_areas": null,
      "grid_template_columns": null,
      "grid_template_rows": null,
      "height": null,
      "justify_content": null,
      "justify_items": null,
      "left": null,
      "margin": null,
      "max_height": null,
      "max_width": null,
      "min_height": null,
      "min_width": null,
      "object_fit": null,
      "object_position": null,
      "order": null,
      "overflow": null,
      "overflow_x": null,
      "overflow_y": null,
      "padding": null,
      "right": null,
      "top": null,
      "visibility": null,
      "width": null
     }
    },
    "452ab8f9bd3c4c47a304274911cf43c8": {
     "model_module": "@jupyter-widgets/controls",
     "model_module_version": "1.5.0",
     "model_name": "FloatProgressModel",
     "state": {
      "_dom_classes": [],
      "_model_module": "@jupyter-widgets/controls",
      "_model_module_version": "1.5.0",
      "_model_name": "FloatProgressModel",
      "_view_count": null,
      "_view_module": "@jupyter-widgets/controls",
      "_view_module_version": "1.5.0",
      "_view_name": "ProgressView",
      "bar_style": "",
      "description": "",
      "description_tooltip": null,
      "layout": "IPY_MODEL_e35587a4a5504f25826c44c116036e8a",
      "max": 31888,
      "min": 0,
      "orientation": "horizontal",
      "style": "IPY_MODEL_57d02c00fede423b839019b0e0e0fa4b",
      "value": 4160
     }
    },
    "543754c15b744a5bb983cc8678654bc1": {
     "model_module": "@jupyter-widgets/controls",
     "model_module_version": "1.5.0",
     "model_name": "FloatProgressModel",
     "state": {
      "_dom_classes": [],
      "_model_module": "@jupyter-widgets/controls",
      "_model_module_version": "1.5.0",
      "_model_name": "FloatProgressModel",
      "_view_count": null,
      "_view_module": "@jupyter-widgets/controls",
      "_view_module_version": "1.5.0",
      "_view_name": "ProgressView",
      "bar_style": "",
      "description": "",
      "description_tooltip": null,
      "layout": "IPY_MODEL_942353cbe3e5415887be28e642a977fc",
      "max": 12163,
      "min": 0,
      "orientation": "horizontal",
      "style": "IPY_MODEL_a1c8c76f292d4b39a494c58647b29dd1",
      "value": 12163
     }
    },
    "57d02c00fede423b839019b0e0e0fa4b": {
     "model_module": "@jupyter-widgets/controls",
     "model_module_version": "1.5.0",
     "model_name": "ProgressStyleModel",
     "state": {
      "_model_module": "@jupyter-widgets/controls",
      "_model_module_version": "1.5.0",
      "_model_name": "ProgressStyleModel",
      "_view_count": null,
      "_view_module": "@jupyter-widgets/base",
      "_view_module_version": "1.2.0",
      "_view_name": "StyleView",
      "bar_color": null,
      "description_width": ""
     }
    },
    "5bd206cbe5bb4ebb959f42eb14eeabf3": {
     "model_module": "@jupyter-widgets/controls",
     "model_module_version": "1.5.0",
     "model_name": "FloatProgressModel",
     "state": {
      "_dom_classes": [],
      "_model_module": "@jupyter-widgets/controls",
      "_model_module_version": "1.5.0",
      "_model_name": "FloatProgressModel",
      "_view_count": null,
      "_view_module": "@jupyter-widgets/controls",
      "_view_module_version": "1.5.0",
      "_view_name": "ProgressView",
      "bar_style": "",
      "description": "",
      "description_tooltip": null,
      "layout": "IPY_MODEL_fe23d78e046f49d58345e2d8999b555f",
      "max": 10000,
      "min": 0,
      "orientation": "horizontal",
      "style": "IPY_MODEL_96e7ed32c3414a54aac441e52cbfb201",
      "value": 0
     }
    },
    "6fdd82f1563c4c408a2109fe3781e321": {
     "model_module": "@jupyter-widgets/base",
     "model_module_version": "1.2.0",
     "model_name": "LayoutModel",
     "state": {
      "_model_module": "@jupyter-widgets/base",
      "_model_module_version": "1.2.0",
      "_model_name": "LayoutModel",
      "_view_count": null,
      "_view_module": "@jupyter-widgets/base",
      "_view_module_version": "1.2.0",
      "_view_name": "LayoutView",
      "align_content": null,
      "align_items": null,
      "align_self": null,
      "border": null,
      "bottom": null,
      "display": null,
      "flex": null,
      "flex_flow": null,
      "grid_area": null,
      "grid_auto_columns": null,
      "grid_auto_flow": null,
      "grid_auto_rows": null,
      "grid_column": null,
      "grid_gap": null,
      "grid_row": null,
      "grid_template_areas": null,
      "grid_template_columns": null,
      "grid_template_rows": null,
      "height": null,
      "justify_content": null,
      "justify_items": null,
      "left": null,
      "margin": null,
      "max_height": null,
      "max_width": null,
      "min_height": null,
      "min_width": null,
      "object_fit": null,
      "object_position": null,
      "order": null,
      "overflow": null,
      "overflow_x": null,
      "overflow_y": null,
      "padding": null,
      "right": null,
      "top": null,
      "visibility": null,
      "width": null
     }
    },
    "7a4b19a71e624aa49a9f3987e008956c": {
     "model_module": "@jupyter-widgets/controls",
     "model_module_version": "1.5.0",
     "model_name": "DescriptionStyleModel",
     "state": {
      "_model_module": "@jupyter-widgets/controls",
      "_model_module_version": "1.5.0",
      "_model_name": "DescriptionStyleModel",
      "_view_count": null,
      "_view_module": "@jupyter-widgets/base",
      "_view_module_version": "1.2.0",
      "_view_name": "StyleView",
      "description_width": ""
     }
    },
    "942353cbe3e5415887be28e642a977fc": {
     "model_module": "@jupyter-widgets/base",
     "model_module_version": "1.2.0",
     "model_name": "LayoutModel",
     "state": {
      "_model_module": "@jupyter-widgets/base",
      "_model_module_version": "1.2.0",
      "_model_name": "LayoutModel",
      "_view_count": null,
      "_view_module": "@jupyter-widgets/base",
      "_view_module_version": "1.2.0",
      "_view_name": "LayoutView",
      "align_content": null,
      "align_items": null,
      "align_self": null,
      "border": null,
      "bottom": null,
      "display": null,
      "flex": null,
      "flex_flow": null,
      "grid_area": null,
      "grid_auto_columns": null,
      "grid_auto_flow": null,
      "grid_auto_rows": null,
      "grid_column": null,
      "grid_gap": null,
      "grid_row": null,
      "grid_template_areas": null,
      "grid_template_columns": null,
      "grid_template_rows": null,
      "height": null,
      "justify_content": null,
      "justify_items": null,
      "left": null,
      "margin": null,
      "max_height": null,
      "max_width": null,
      "min_height": null,
      "min_width": null,
      "object_fit": null,
      "object_position": null,
      "order": null,
      "overflow": null,
      "overflow_x": null,
      "overflow_y": null,
      "padding": null,
      "right": null,
      "top": null,
      "visibility": null,
      "width": null
     }
    },
    "95b5857b7269491588b8c90ddcbb3ec8": {
     "model_module": "@jupyter-widgets/controls",
     "model_module_version": "1.5.0",
     "model_name": "HBoxModel",
     "state": {
      "_dom_classes": [],
      "_model_module": "@jupyter-widgets/controls",
      "_model_module_version": "1.5.0",
      "_model_name": "HBoxModel",
      "_view_count": null,
      "_view_module": "@jupyter-widgets/controls",
      "_view_module_version": "1.5.0",
      "_view_name": "HBoxView",
      "box_style": "",
      "children": [
       "IPY_MODEL_9c41ce10c6894545a890791d42393186",
       "IPY_MODEL_5bd206cbe5bb4ebb959f42eb14eeabf3",
       "IPY_MODEL_b93cb70c27744796be68e00e6875842d"
      ],
      "layout": "IPY_MODEL_6fdd82f1563c4c408a2109fe3781e321"
     }
    },
    "96e7ed32c3414a54aac441e52cbfb201": {
     "model_module": "@jupyter-widgets/controls",
     "model_module_version": "1.5.0",
     "model_name": "ProgressStyleModel",
     "state": {
      "_model_module": "@jupyter-widgets/controls",
      "_model_module_version": "1.5.0",
      "_model_name": "ProgressStyleModel",
      "_view_count": null,
      "_view_module": "@jupyter-widgets/base",
      "_view_module_version": "1.2.0",
      "_view_name": "StyleView",
      "bar_color": null,
      "description_width": ""
     }
    },
    "9974eebf444e43a6aa9d886503e4fd6a": {
     "model_module": "@jupyter-widgets/base",
     "model_module_version": "1.2.0",
     "model_name": "LayoutModel",
     "state": {
      "_model_module": "@jupyter-widgets/base",
      "_model_module_version": "1.2.0",
      "_model_name": "LayoutModel",
      "_view_count": null,
      "_view_module": "@jupyter-widgets/base",
      "_view_module_version": "1.2.0",
      "_view_name": "LayoutView",
      "align_content": null,
      "align_items": null,
      "align_self": null,
      "border": null,
      "bottom": null,
      "display": null,
      "flex": null,
      "flex_flow": null,
      "grid_area": null,
      "grid_auto_columns": null,
      "grid_auto_flow": null,
      "grid_auto_rows": null,
      "grid_column": null,
      "grid_gap": null,
      "grid_row": null,
      "grid_template_areas": null,
      "grid_template_columns": null,
      "grid_template_rows": null,
      "height": null,
      "justify_content": null,
      "justify_items": null,
      "left": null,
      "margin": null,
      "max_height": null,
      "max_width": null,
      "min_height": null,
      "min_width": null,
      "object_fit": null,
      "object_position": null,
      "order": null,
      "overflow": null,
      "overflow_x": null,
      "overflow_y": null,
      "padding": null,
      "right": null,
      "top": null,
      "visibility": null,
      "width": null
     }
    },
    "9a44037422f943a69a3db6d98cf86191": {
     "model_module": "@jupyter-widgets/base",
     "model_module_version": "1.2.0",
     "model_name": "LayoutModel",
     "state": {
      "_model_module": "@jupyter-widgets/base",
      "_model_module_version": "1.2.0",
      "_model_name": "LayoutModel",
      "_view_count": null,
      "_view_module": "@jupyter-widgets/base",
      "_view_module_version": "1.2.0",
      "_view_name": "LayoutView",
      "align_content": null,
      "align_items": null,
      "align_self": null,
      "border": null,
      "bottom": null,
      "display": null,
      "flex": null,
      "flex_flow": null,
      "grid_area": null,
      "grid_auto_columns": null,
      "grid_auto_flow": null,
      "grid_auto_rows": null,
      "grid_column": null,
      "grid_gap": null,
      "grid_row": null,
      "grid_template_areas": null,
      "grid_template_columns": null,
      "grid_template_rows": null,
      "height": null,
      "justify_content": null,
      "justify_items": null,
      "left": null,
      "margin": null,
      "max_height": null,
      "max_width": null,
      "min_height": null,
      "min_width": null,
      "object_fit": null,
      "object_position": null,
      "order": null,
      "overflow": null,
      "overflow_x": null,
      "overflow_y": null,
      "padding": null,
      "right": null,
      "top": null,
      "visibility": null,
      "width": null
     }
    },
    "9c41ce10c6894545a890791d42393186": {
     "model_module": "@jupyter-widgets/controls",
     "model_module_version": "1.5.0",
     "model_name": "HTMLModel",
     "state": {
      "_dom_classes": [],
      "_model_module": "@jupyter-widgets/controls",
      "_model_module_version": "1.5.0",
      "_model_name": "HTMLModel",
      "_view_count": null,
      "_view_module": "@jupyter-widgets/controls",
      "_view_module_version": "1.5.0",
      "_view_name": "HTMLView",
      "description": "",
      "description_tooltip": null,
      "layout": "IPY_MODEL_3072e9e4bab44ad48afdad2e1bba7801",
      "placeholder": "​",
      "style": "IPY_MODEL_b9f556ff1b2640939082eacf727d42d7",
      "value": "  0%"
     }
    },
    "9cb29dc3867c497fa5a3104af6aa1f7f": {
     "model_module": "@jupyter-widgets/controls",
     "model_module_version": "1.5.0",
     "model_name": "HBoxModel",
     "state": {
      "_dom_classes": [],
      "_model_module": "@jupyter-widgets/controls",
      "_model_module_version": "1.5.0",
      "_model_name": "HBoxModel",
      "_view_count": null,
      "_view_module": "@jupyter-widgets/controls",
      "_view_module_version": "1.5.0",
      "_view_name": "HBoxView",
      "box_style": "",
      "children": [
       "IPY_MODEL_f8b26f17aac2449f93dc01db079368bf",
       "IPY_MODEL_452ab8f9bd3c4c47a304274911cf43c8",
       "IPY_MODEL_f69ad7c52a2d404f87d2e281ca614051"
      ],
      "layout": "IPY_MODEL_3ef7745baae5491395faa0cbe4b97c72"
     }
    },
    "a1c8c76f292d4b39a494c58647b29dd1": {
     "model_module": "@jupyter-widgets/controls",
     "model_module_version": "1.5.0",
     "model_name": "ProgressStyleModel",
     "state": {
      "_model_module": "@jupyter-widgets/controls",
      "_model_module_version": "1.5.0",
      "_model_name": "ProgressStyleModel",
      "_view_count": null,
      "_view_module": "@jupyter-widgets/base",
      "_view_module_version": "1.2.0",
      "_view_name": "StyleView",
      "bar_color": null,
      "description_width": ""
     }
    },
    "a32cf5dddac44322a811fa12f8134c74": {
     "model_module": "@jupyter-widgets/controls",
     "model_module_version": "1.5.0",
     "model_name": "DescriptionStyleModel",
     "state": {
      "_model_module": "@jupyter-widgets/controls",
      "_model_module_version": "1.5.0",
      "_model_name": "DescriptionStyleModel",
      "_view_count": null,
      "_view_module": "@jupyter-widgets/base",
      "_view_module_version": "1.2.0",
      "_view_name": "StyleView",
      "description_width": ""
     }
    },
    "b93cb70c27744796be68e00e6875842d": {
     "model_module": "@jupyter-widgets/controls",
     "model_module_version": "1.5.0",
     "model_name": "HTMLModel",
     "state": {
      "_dom_classes": [],
      "_model_module": "@jupyter-widgets/controls",
      "_model_module_version": "1.5.0",
      "_model_name": "HTMLModel",
      "_view_count": null,
      "_view_module": "@jupyter-widgets/controls",
      "_view_module_version": "1.5.0",
      "_view_name": "HTMLView",
      "description": "",
      "description_tooltip": null,
      "layout": "IPY_MODEL_9a44037422f943a69a3db6d98cf86191",
      "placeholder": "​",
      "style": "IPY_MODEL_7a4b19a71e624aa49a9f3987e008956c",
      "value": " 0/10000 [00:00&lt;?, ?it/s]"
     }
    },
    "b9f556ff1b2640939082eacf727d42d7": {
     "model_module": "@jupyter-widgets/controls",
     "model_module_version": "1.5.0",
     "model_name": "DescriptionStyleModel",
     "state": {
      "_model_module": "@jupyter-widgets/controls",
      "_model_module_version": "1.5.0",
      "_model_name": "DescriptionStyleModel",
      "_view_count": null,
      "_view_module": "@jupyter-widgets/base",
      "_view_module_version": "1.2.0",
      "_view_name": "StyleView",
      "description_width": ""
     }
    },
    "bb9dd41ab22c4626bfbb5dd63412c005": {
     "model_module": "@jupyter-widgets/base",
     "model_module_version": "1.2.0",
     "model_name": "LayoutModel",
     "state": {
      "_model_module": "@jupyter-widgets/base",
      "_model_module_version": "1.2.0",
      "_model_name": "LayoutModel",
      "_view_count": null,
      "_view_module": "@jupyter-widgets/base",
      "_view_module_version": "1.2.0",
      "_view_name": "LayoutView",
      "align_content": null,
      "align_items": null,
      "align_self": null,
      "border": null,
      "bottom": null,
      "display": null,
      "flex": null,
      "flex_flow": null,
      "grid_area": null,
      "grid_auto_columns": null,
      "grid_auto_flow": null,
      "grid_auto_rows": null,
      "grid_column": null,
      "grid_gap": null,
      "grid_row": null,
      "grid_template_areas": null,
      "grid_template_columns": null,
      "grid_template_rows": null,
      "height": null,
      "justify_content": null,
      "justify_items": null,
      "left": null,
      "margin": null,
      "max_height": null,
      "max_width": null,
      "min_height": null,
      "min_width": null,
      "object_fit": null,
      "object_position": null,
      "order": null,
      "overflow": null,
      "overflow_x": null,
      "overflow_y": null,
      "padding": null,
      "right": null,
      "top": null,
      "visibility": null,
      "width": null
     }
    },
    "c8dc4d95abf64d5886e63fe50ffe3ad1": {
     "model_module": "@jupyter-widgets/base",
     "model_module_version": "1.2.0",
     "model_name": "LayoutModel",
     "state": {
      "_model_module": "@jupyter-widgets/base",
      "_model_module_version": "1.2.0",
      "_model_name": "LayoutModel",
      "_view_count": null,
      "_view_module": "@jupyter-widgets/base",
      "_view_module_version": "1.2.0",
      "_view_name": "LayoutView",
      "align_content": null,
      "align_items": null,
      "align_self": null,
      "border": null,
      "bottom": null,
      "display": null,
      "flex": null,
      "flex_flow": null,
      "grid_area": null,
      "grid_auto_columns": null,
      "grid_auto_flow": null,
      "grid_auto_rows": null,
      "grid_column": null,
      "grid_gap": null,
      "grid_row": null,
      "grid_template_areas": null,
      "grid_template_columns": null,
      "grid_template_rows": null,
      "height": null,
      "justify_content": null,
      "justify_items": null,
      "left": null,
      "margin": null,
      "max_height": null,
      "max_width": null,
      "min_height": null,
      "min_width": null,
      "object_fit": null,
      "object_position": null,
      "order": null,
      "overflow": null,
      "overflow_x": null,
      "overflow_y": null,
      "padding": null,
      "right": null,
      "top": null,
      "visibility": null,
      "width": null
     }
    },
    "d460a6196fac4bba906e78b6bb0215cd": {
     "model_module": "@jupyter-widgets/base",
     "model_module_version": "1.2.0",
     "model_name": "LayoutModel",
     "state": {
      "_model_module": "@jupyter-widgets/base",
      "_model_module_version": "1.2.0",
      "_model_name": "LayoutModel",
      "_view_count": null,
      "_view_module": "@jupyter-widgets/base",
      "_view_module_version": "1.2.0",
      "_view_name": "LayoutView",
      "align_content": null,
      "align_items": null,
      "align_self": null,
      "border": null,
      "bottom": null,
      "display": null,
      "flex": null,
      "flex_flow": null,
      "grid_area": null,
      "grid_auto_columns": null,
      "grid_auto_flow": null,
      "grid_auto_rows": null,
      "grid_column": null,
      "grid_gap": null,
      "grid_row": null,
      "grid_template_areas": null,
      "grid_template_columns": null,
      "grid_template_rows": null,
      "height": null,
      "justify_content": null,
      "justify_items": null,
      "left": null,
      "margin": null,
      "max_height": null,
      "max_width": null,
      "min_height": null,
      "min_width": null,
      "object_fit": null,
      "object_position": null,
      "order": null,
      "overflow": null,
      "overflow_x": null,
      "overflow_y": null,
      "padding": null,
      "right": null,
      "top": null,
      "visibility": null,
      "width": null
     }
    },
    "d6b2dc7033144692824d8f0d1dcb3e61": {
     "model_module": "@jupyter-widgets/controls",
     "model_module_version": "1.5.0",
     "model_name": "HTMLModel",
     "state": {
      "_dom_classes": [],
      "_model_module": "@jupyter-widgets/controls",
      "_model_module_version": "1.5.0",
      "_model_name": "HTMLModel",
      "_view_count": null,
      "_view_module": "@jupyter-widgets/controls",
      "_view_module_version": "1.5.0",
      "_view_name": "HTMLView",
      "description": "",
      "description_tooltip": null,
      "layout": "IPY_MODEL_2673d62822264fcc8844d91af7ade870",
      "placeholder": "​",
      "style": "IPY_MODEL_0b8c8bebfc584b1f82f534f1e5d85a37",
      "value": "100%"
     }
    },
    "def868e2338f411bbda58dfc1a7bfbdb": {
     "model_module": "@jupyter-widgets/controls",
     "model_module_version": "1.5.0",
     "model_name": "HBoxModel",
     "state": {
      "_dom_classes": [],
      "_model_module": "@jupyter-widgets/controls",
      "_model_module_version": "1.5.0",
      "_model_name": "HBoxModel",
      "_view_count": null,
      "_view_module": "@jupyter-widgets/controls",
      "_view_module_version": "1.5.0",
      "_view_name": "HBoxView",
      "box_style": "",
      "children": [
       "IPY_MODEL_d6b2dc7033144692824d8f0d1dcb3e61",
       "IPY_MODEL_543754c15b744a5bb983cc8678654bc1",
       "IPY_MODEL_ece6ead060f44278bfd58aea4b3290bf"
      ],
      "layout": "IPY_MODEL_9974eebf444e43a6aa9d886503e4fd6a"
     }
    },
    "e35587a4a5504f25826c44c116036e8a": {
     "model_module": "@jupyter-widgets/base",
     "model_module_version": "1.2.0",
     "model_name": "LayoutModel",
     "state": {
      "_model_module": "@jupyter-widgets/base",
      "_model_module_version": "1.2.0",
      "_model_name": "LayoutModel",
      "_view_count": null,
      "_view_module": "@jupyter-widgets/base",
      "_view_module_version": "1.2.0",
      "_view_name": "LayoutView",
      "align_content": null,
      "align_items": null,
      "align_self": null,
      "border": null,
      "bottom": null,
      "display": null,
      "flex": null,
      "flex_flow": null,
      "grid_area": null,
      "grid_auto_columns": null,
      "grid_auto_flow": null,
      "grid_auto_rows": null,
      "grid_column": null,
      "grid_gap": null,
      "grid_row": null,
      "grid_template_areas": null,
      "grid_template_columns": null,
      "grid_template_rows": null,
      "height": null,
      "justify_content": null,
      "justify_items": null,
      "left": null,
      "margin": null,
      "max_height": null,
      "max_width": null,
      "min_height": null,
      "min_width": null,
      "object_fit": null,
      "object_position": null,
      "order": null,
      "overflow": null,
      "overflow_x": null,
      "overflow_y": null,
      "padding": null,
      "right": null,
      "top": null,
      "visibility": null,
      "width": null
     }
    },
    "e3eb8b5b625c4825935533ed040026c1": {
     "model_module": "@jupyter-widgets/controls",
     "model_module_version": "1.5.0",
     "model_name": "DescriptionStyleModel",
     "state": {
      "_model_module": "@jupyter-widgets/controls",
      "_model_module_version": "1.5.0",
      "_model_name": "DescriptionStyleModel",
      "_view_count": null,
      "_view_module": "@jupyter-widgets/base",
      "_view_module_version": "1.2.0",
      "_view_name": "StyleView",
      "description_width": ""
     }
    },
    "ece6ead060f44278bfd58aea4b3290bf": {
     "model_module": "@jupyter-widgets/controls",
     "model_module_version": "1.5.0",
     "model_name": "HTMLModel",
     "state": {
      "_dom_classes": [],
      "_model_module": "@jupyter-widgets/controls",
      "_model_module_version": "1.5.0",
      "_model_name": "HTMLModel",
      "_view_count": null,
      "_view_module": "@jupyter-widgets/controls",
      "_view_module_version": "1.5.0",
      "_view_name": "HTMLView",
      "description": "",
      "description_tooltip": null,
      "layout": "IPY_MODEL_bb9dd41ab22c4626bfbb5dd63412c005",
      "placeholder": "​",
      "style": "IPY_MODEL_a32cf5dddac44322a811fa12f8134c74",
      "value": " 12111/12163 [00:06&lt;00:00, 1343.59it/s]"
     }
    },
    "f69ad7c52a2d404f87d2e281ca614051": {
     "model_module": "@jupyter-widgets/controls",
     "model_module_version": "1.5.0",
     "model_name": "HTMLModel",
     "state": {
      "_dom_classes": [],
      "_model_module": "@jupyter-widgets/controls",
      "_model_module_version": "1.5.0",
      "_model_name": "HTMLModel",
      "_view_count": null,
      "_view_module": "@jupyter-widgets/controls",
      "_view_module_version": "1.5.0",
      "_view_name": "HTMLView",
      "description": "",
      "description_tooltip": null,
      "layout": "IPY_MODEL_c8dc4d95abf64d5886e63fe50ffe3ad1",
      "placeholder": "​",
      "style": "IPY_MODEL_1341114e673c4de7a0c968437bedc5ad",
      "value": " 4160/31888 [00:04&lt;00:29, 951.04it/s]"
     }
    },
    "f8b26f17aac2449f93dc01db079368bf": {
     "model_module": "@jupyter-widgets/controls",
     "model_module_version": "1.5.0",
     "model_name": "HTMLModel",
     "state": {
      "_dom_classes": [],
      "_model_module": "@jupyter-widgets/controls",
      "_model_module_version": "1.5.0",
      "_model_name": "HTMLModel",
      "_view_count": null,
      "_view_module": "@jupyter-widgets/controls",
      "_view_module_version": "1.5.0",
      "_view_name": "HTMLView",
      "description": "",
      "description_tooltip": null,
      "layout": "IPY_MODEL_d460a6196fac4bba906e78b6bb0215cd",
      "placeholder": "​",
      "style": "IPY_MODEL_e3eb8b5b625c4825935533ed040026c1",
      "value": " 13%"
     }
    },
    "fe23d78e046f49d58345e2d8999b555f": {
     "model_module": "@jupyter-widgets/base",
     "model_module_version": "1.2.0",
     "model_name": "LayoutModel",
     "state": {
      "_model_module": "@jupyter-widgets/base",
      "_model_module_version": "1.2.0",
      "_model_name": "LayoutModel",
      "_view_count": null,
      "_view_module": "@jupyter-widgets/base",
      "_view_module_version": "1.2.0",
      "_view_name": "LayoutView",
      "align_content": null,
      "align_items": null,
      "align_self": null,
      "border": null,
      "bottom": null,
      "display": null,
      "flex": null,
      "flex_flow": null,
      "grid_area": null,
      "grid_auto_columns": null,
      "grid_auto_flow": null,
      "grid_auto_rows": null,
      "grid_column": null,
      "grid_gap": null,
      "grid_row": null,
      "grid_template_areas": null,
      "grid_template_columns": null,
      "grid_template_rows": null,
      "height": null,
      "justify_content": null,
      "justify_items": null,
      "left": null,
      "margin": null,
      "max_height": null,
      "max_width": null,
      "min_height": null,
      "min_width": null,
      "object_fit": null,
      "object_position": null,
      "order": null,
      "overflow": null,
      "overflow_x": null,
      "overflow_y": null,
      "padding": null,
      "right": null,
      "top": null,
      "visibility": null,
      "width": null
     }
    }
   }
  }
 },
 "nbformat": 4,
 "nbformat_minor": 1
}
