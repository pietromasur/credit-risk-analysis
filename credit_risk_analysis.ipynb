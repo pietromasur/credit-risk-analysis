{
  "cells": [
    {
      "cell_type": "markdown",
      "metadata": {
        "id": "yFYgv97k2DUP"
      },
      "source": [
        "# Credit Analysis Project"
      ]
    },
    {
      "cell_type": "code",
      "execution_count": 40,
      "metadata": {
        "colab": {
          "base_uri": "https://localhost:8080/"
        },
        "id": "YF4D3uX_2YKz",
        "outputId": "c526535f-e168-4163-ec41-e1c38786643d"
      },
      "outputs": [
        {
          "output_type": "stream",
          "name": "stdout",
          "text": [
            "Drive already mounted at /content/gdrive; to attempt to forcibly remount, call drive.mount(\"/content/gdrive\", force_remount=True).\n"
          ]
        }
      ],
      "source": [
        "from google.colab import drive\n",
        "drive.mount('/content/gdrive')"
      ]
    },
    {
      "cell_type": "code",
      "execution_count": 41,
      "metadata": {
        "id": "-paov50Y2DUW",
        "scrolled": false
      },
      "outputs": [],
      "source": [
        "#!pip install -U scikit-learn"
      ]
    },
    {
      "cell_type": "markdown",
      "metadata": {
        "id": "tl9-IF9_2DUc"
      },
      "source": [
        "## Imports and dataset loading"
      ]
    },
    {
      "cell_type": "code",
      "execution_count": 42,
      "metadata": {
        "id": "RjbpxiXABVEV"
      },
      "outputs": [],
      "source": [
        "import pandas as pd\n",
        "import numpy as np\n",
        "\n",
        "from sklearn.neural_network import MLPClassifier\n",
        "from sklearn.ensemble import RandomForestClassifier\n",
        "\n",
        "from sklearn.metrics import accuracy_score"
      ]
    },
    {
      "cell_type": "markdown",
      "metadata": {
        "id": "AEEWZgjb2DUd"
      },
      "source": [
        "The process we will follow to partition data is described on the chart bellow"
      ]
    },
    {
      "cell_type": "markdown",
      "metadata": {
        "id": "U6uomS-c2DUe"
      },
      "source": [
        "![image.png](attachment:image.png)"
      ]
    },
    {
      "cell_type": "code",
      "execution_count": 43,
      "metadata": {
        "colab": {
          "base_uri": "https://localhost:8080/",
          "height": 280
        },
        "id": "14wnOwF2BpdC",
        "outputId": "ab029ab8-f28b-4d2b-86dc-5f9d999ceaaf"
      },
      "outputs": [
        {
          "output_type": "execute_result",
          "data": {
            "text/plain": [
              "   INDEX  UF_1  UF_2  UF_3  UF_4  UF_5  UF_6  UF_7     IDADE  SEXO_1  ...  \\\n",
              "0      0     1     1     1     0     0     0     0  0.135098       1  ...   \n",
              "1      1     1     0     1     0     0     1     0  0.273504       1  ...   \n",
              "2      2     1     0     1     0     0     1     0  0.281910       0  ...   \n",
              "3      3     1     1     1     0     0     0     0  0.225741       0  ...   \n",
              "4      4     1     1     0     0     0     1     0  0.480403       0  ...   \n",
              "\n",
              "   CEP4_7  CEP4_8  CEP4_9  CEP4_10  CEP4_11  CEP4_12  CEP4_13  CEP4_14  \\\n",
              "0       0       0       1        1        0        1        1        1   \n",
              "1       0       1       0        1        1        0        0        0   \n",
              "2       1       1       0        0        0        0        1        0   \n",
              "3       1       1       0        1        1        0        1        0   \n",
              "4       1       1       1        0        0        1        0        1   \n",
              "\n",
              "   IND_BOM_1_1  IND_BOM_1_2  \n",
              "0            0            1  \n",
              "1            1            0  \n",
              "2            1            0  \n",
              "3            1            0  \n",
              "4            1            0  \n",
              "\n",
              "[5 rows x 246 columns]"
            ],
            "text/html": [
              "\n",
              "  <div id=\"df-0e83192a-cc1c-4cbf-aa50-da8b489dd706\">\n",
              "    <div class=\"colab-df-container\">\n",
              "      <div>\n",
              "<style scoped>\n",
              "    .dataframe tbody tr th:only-of-type {\n",
              "        vertical-align: middle;\n",
              "    }\n",
              "\n",
              "    .dataframe tbody tr th {\n",
              "        vertical-align: top;\n",
              "    }\n",
              "\n",
              "    .dataframe thead th {\n",
              "        text-align: right;\n",
              "    }\n",
              "</style>\n",
              "<table border=\"1\" class=\"dataframe\">\n",
              "  <thead>\n",
              "    <tr style=\"text-align: right;\">\n",
              "      <th></th>\n",
              "      <th>INDEX</th>\n",
              "      <th>UF_1</th>\n",
              "      <th>UF_2</th>\n",
              "      <th>UF_3</th>\n",
              "      <th>UF_4</th>\n",
              "      <th>UF_5</th>\n",
              "      <th>UF_6</th>\n",
              "      <th>UF_7</th>\n",
              "      <th>IDADE</th>\n",
              "      <th>SEXO_1</th>\n",
              "      <th>...</th>\n",
              "      <th>CEP4_7</th>\n",
              "      <th>CEP4_8</th>\n",
              "      <th>CEP4_9</th>\n",
              "      <th>CEP4_10</th>\n",
              "      <th>CEP4_11</th>\n",
              "      <th>CEP4_12</th>\n",
              "      <th>CEP4_13</th>\n",
              "      <th>CEP4_14</th>\n",
              "      <th>IND_BOM_1_1</th>\n",
              "      <th>IND_BOM_1_2</th>\n",
              "    </tr>\n",
              "  </thead>\n",
              "  <tbody>\n",
              "    <tr>\n",
              "      <th>0</th>\n",
              "      <td>0</td>\n",
              "      <td>1</td>\n",
              "      <td>1</td>\n",
              "      <td>1</td>\n",
              "      <td>0</td>\n",
              "      <td>0</td>\n",
              "      <td>0</td>\n",
              "      <td>0</td>\n",
              "      <td>0.135098</td>\n",
              "      <td>1</td>\n",
              "      <td>...</td>\n",
              "      <td>0</td>\n",
              "      <td>0</td>\n",
              "      <td>1</td>\n",
              "      <td>1</td>\n",
              "      <td>0</td>\n",
              "      <td>1</td>\n",
              "      <td>1</td>\n",
              "      <td>1</td>\n",
              "      <td>0</td>\n",
              "      <td>1</td>\n",
              "    </tr>\n",
              "    <tr>\n",
              "      <th>1</th>\n",
              "      <td>1</td>\n",
              "      <td>1</td>\n",
              "      <td>0</td>\n",
              "      <td>1</td>\n",
              "      <td>0</td>\n",
              "      <td>0</td>\n",
              "      <td>1</td>\n",
              "      <td>0</td>\n",
              "      <td>0.273504</td>\n",
              "      <td>1</td>\n",
              "      <td>...</td>\n",
              "      <td>0</td>\n",
              "      <td>1</td>\n",
              "      <td>0</td>\n",
              "      <td>1</td>\n",
              "      <td>1</td>\n",
              "      <td>0</td>\n",
              "      <td>0</td>\n",
              "      <td>0</td>\n",
              "      <td>1</td>\n",
              "      <td>0</td>\n",
              "    </tr>\n",
              "    <tr>\n",
              "      <th>2</th>\n",
              "      <td>2</td>\n",
              "      <td>1</td>\n",
              "      <td>0</td>\n",
              "      <td>1</td>\n",
              "      <td>0</td>\n",
              "      <td>0</td>\n",
              "      <td>1</td>\n",
              "      <td>0</td>\n",
              "      <td>0.281910</td>\n",
              "      <td>0</td>\n",
              "      <td>...</td>\n",
              "      <td>1</td>\n",
              "      <td>1</td>\n",
              "      <td>0</td>\n",
              "      <td>0</td>\n",
              "      <td>0</td>\n",
              "      <td>0</td>\n",
              "      <td>1</td>\n",
              "      <td>0</td>\n",
              "      <td>1</td>\n",
              "      <td>0</td>\n",
              "    </tr>\n",
              "    <tr>\n",
              "      <th>3</th>\n",
              "      <td>3</td>\n",
              "      <td>1</td>\n",
              "      <td>1</td>\n",
              "      <td>1</td>\n",
              "      <td>0</td>\n",
              "      <td>0</td>\n",
              "      <td>0</td>\n",
              "      <td>0</td>\n",
              "      <td>0.225741</td>\n",
              "      <td>0</td>\n",
              "      <td>...</td>\n",
              "      <td>1</td>\n",
              "      <td>1</td>\n",
              "      <td>0</td>\n",
              "      <td>1</td>\n",
              "      <td>1</td>\n",
              "      <td>0</td>\n",
              "      <td>1</td>\n",
              "      <td>0</td>\n",
              "      <td>1</td>\n",
              "      <td>0</td>\n",
              "    </tr>\n",
              "    <tr>\n",
              "      <th>4</th>\n",
              "      <td>4</td>\n",
              "      <td>1</td>\n",
              "      <td>1</td>\n",
              "      <td>0</td>\n",
              "      <td>0</td>\n",
              "      <td>0</td>\n",
              "      <td>1</td>\n",
              "      <td>0</td>\n",
              "      <td>0.480403</td>\n",
              "      <td>0</td>\n",
              "      <td>...</td>\n",
              "      <td>1</td>\n",
              "      <td>1</td>\n",
              "      <td>1</td>\n",
              "      <td>0</td>\n",
              "      <td>0</td>\n",
              "      <td>1</td>\n",
              "      <td>0</td>\n",
              "      <td>1</td>\n",
              "      <td>1</td>\n",
              "      <td>0</td>\n",
              "    </tr>\n",
              "  </tbody>\n",
              "</table>\n",
              "<p>5 rows × 246 columns</p>\n",
              "</div>\n",
              "      <button class=\"colab-df-convert\" onclick=\"convertToInteractive('df-0e83192a-cc1c-4cbf-aa50-da8b489dd706')\"\n",
              "              title=\"Convert this dataframe to an interactive table.\"\n",
              "              style=\"display:none;\">\n",
              "        \n",
              "  <svg xmlns=\"http://www.w3.org/2000/svg\" height=\"24px\"viewBox=\"0 0 24 24\"\n",
              "       width=\"24px\">\n",
              "    <path d=\"M0 0h24v24H0V0z\" fill=\"none\"/>\n",
              "    <path d=\"M18.56 5.44l.94 2.06.94-2.06 2.06-.94-2.06-.94-.94-2.06-.94 2.06-2.06.94zm-11 1L8.5 8.5l.94-2.06 2.06-.94-2.06-.94L8.5 2.5l-.94 2.06-2.06.94zm10 10l.94 2.06.94-2.06 2.06-.94-2.06-.94-.94-2.06-.94 2.06-2.06.94z\"/><path d=\"M17.41 7.96l-1.37-1.37c-.4-.4-.92-.59-1.43-.59-.52 0-1.04.2-1.43.59L10.3 9.45l-7.72 7.72c-.78.78-.78 2.05 0 2.83L4 21.41c.39.39.9.59 1.41.59.51 0 1.02-.2 1.41-.59l7.78-7.78 2.81-2.81c.8-.78.8-2.07 0-2.86zM5.41 20L4 18.59l7.72-7.72 1.47 1.35L5.41 20z\"/>\n",
              "  </svg>\n",
              "      </button>\n",
              "      \n",
              "  <style>\n",
              "    .colab-df-container {\n",
              "      display:flex;\n",
              "      flex-wrap:wrap;\n",
              "      gap: 12px;\n",
              "    }\n",
              "\n",
              "    .colab-df-convert {\n",
              "      background-color: #E8F0FE;\n",
              "      border: none;\n",
              "      border-radius: 50%;\n",
              "      cursor: pointer;\n",
              "      display: none;\n",
              "      fill: #1967D2;\n",
              "      height: 32px;\n",
              "      padding: 0 0 0 0;\n",
              "      width: 32px;\n",
              "    }\n",
              "\n",
              "    .colab-df-convert:hover {\n",
              "      background-color: #E2EBFA;\n",
              "      box-shadow: 0px 1px 2px rgba(60, 64, 67, 0.3), 0px 1px 3px 1px rgba(60, 64, 67, 0.15);\n",
              "      fill: #174EA6;\n",
              "    }\n",
              "\n",
              "    [theme=dark] .colab-df-convert {\n",
              "      background-color: #3B4455;\n",
              "      fill: #D2E3FC;\n",
              "    }\n",
              "\n",
              "    [theme=dark] .colab-df-convert:hover {\n",
              "      background-color: #434B5C;\n",
              "      box-shadow: 0px 1px 3px 1px rgba(0, 0, 0, 0.15);\n",
              "      filter: drop-shadow(0px 1px 2px rgba(0, 0, 0, 0.3));\n",
              "      fill: #FFFFFF;\n",
              "    }\n",
              "  </style>\n",
              "\n",
              "      <script>\n",
              "        const buttonEl =\n",
              "          document.querySelector('#df-0e83192a-cc1c-4cbf-aa50-da8b489dd706 button.colab-df-convert');\n",
              "        buttonEl.style.display =\n",
              "          google.colab.kernel.accessAllowed ? 'block' : 'none';\n",
              "\n",
              "        async function convertToInteractive(key) {\n",
              "          const element = document.querySelector('#df-0e83192a-cc1c-4cbf-aa50-da8b489dd706');\n",
              "          const dataTable =\n",
              "            await google.colab.kernel.invokeFunction('convertToInteractive',\n",
              "                                                     [key], {});\n",
              "          if (!dataTable) return;\n",
              "\n",
              "          const docLinkHtml = 'Like what you see? Visit the ' +\n",
              "            '<a target=\"_blank\" href=https://colab.research.google.com/notebooks/data_table.ipynb>data table notebook</a>'\n",
              "            + ' to learn more about interactive tables.';\n",
              "          element.innerHTML = '';\n",
              "          dataTable['output_type'] = 'display_data';\n",
              "          await google.colab.output.renderOutput(dataTable, element);\n",
              "          const docLink = document.createElement('div');\n",
              "          docLink.innerHTML = docLinkHtml;\n",
              "          element.appendChild(docLink);\n",
              "        }\n",
              "      </script>\n",
              "    </div>\n",
              "  </div>\n",
              "  "
            ]
          },
          "metadata": {},
          "execution_count": 43
        }
      ],
      "source": [
        "df = pd.read_table('gdrive/MyDrive/TRNcod.xls')\n",
        "\n",
        "df.dropna(inplace = True)\n",
        "\n",
        "df.head()"
      ]
    },
    {
      "cell_type": "code",
      "execution_count": 44,
      "metadata": {
        "colab": {
          "base_uri": "https://localhost:8080/"
        },
        "id": "yu5-2EhaVrzD",
        "outputId": "d7c039d9-7980-405a-97d9-9ebad094f374"
      },
      "outputs": [
        {
          "output_type": "stream",
          "name": "stdout",
          "text": [
            "Quantidade de instâncias: 389196\n",
            "Quantidade de atributos: 246\n",
            "\n"
          ]
        }
      ],
      "source": [
        "print('Quantidade de instâncias: {}\\nQuantidade de atributos: {}\\n'.format(len(df), len(df.columns)))"
      ]
    },
    {
      "cell_type": "markdown",
      "metadata": {
        "id": "074WGTaMpYdd"
      },
      "source": [
        "### First Step: \n",
        "#### Splitting the Dataset on Two Classes"
      ]
    },
    {
      "cell_type": "code",
      "execution_count": 45,
      "metadata": {
        "colab": {
          "base_uri": "https://localhost:8080/"
        },
        "id": "YUEjT2L6hqbZ",
        "outputId": "0c0a0be5-c49b-403c-cf05-d1d02d66590c"
      },
      "outputs": [
        {
          "output_type": "execute_result",
          "data": {
            "text/plain": [
              "0    255098\n",
              "1    134098\n",
              "Name: IND_BOM_1_2, dtype: int64"
            ]
          },
          "metadata": {},
          "execution_count": 45
        }
      ],
      "source": [
        "df['IND_BOM_1_2'].value_counts()"
      ]
    },
    {
      "cell_type": "code",
      "execution_count": 46,
      "metadata": {
        "colab": {
          "base_uri": "https://localhost:8080/"
        },
        "id": "PeBZYmKalk-w",
        "outputId": "4d4ec870-0460-4668-cc1d-6c405580607a"
      },
      "outputs": [
        {
          "output_type": "stream",
          "name": "stdout",
          "text": [
            "Quantidade de instâncias na classe 0 :255098\n"
          ]
        }
      ],
      "source": [
        "df0 = df.loc[(df['IND_BOM_1_2']) == 0]\n",
        "print('Quantidade de instâncias na classe 0 :' + str(len(df0)))"
      ]
    },
    {
      "cell_type": "code",
      "execution_count": 47,
      "metadata": {
        "colab": {
          "base_uri": "https://localhost:8080/"
        },
        "id": "GZEuvkgzmFuY",
        "outputId": "d0d5f8f6-7fc8-488c-cb21-a916d8efa041"
      },
      "outputs": [
        {
          "output_type": "stream",
          "name": "stdout",
          "text": [
            "Quantidade de instâncias na classe 1 :134098\n"
          ]
        }
      ],
      "source": [
        "df1 = df.loc[(df['IND_BOM_1_2']) == 1]\n",
        "print('Quantidade de instâncias na classe 1 :' + str(len(df1)))"
      ]
    },
    {
      "cell_type": "markdown",
      "metadata": {
        "id": "3uwSgYr8pg0l"
      },
      "source": [
        "### Second Step: \n",
        "#### Splitting on train, test and validation and augmenting to compensate data bias"
      ]
    },
    {
      "cell_type": "code",
      "execution_count": 48,
      "metadata": {
        "colab": {
          "base_uri": "https://localhost:8080/"
        },
        "id": "hI0JyoxVa7I0",
        "outputId": "25c72fcb-86b0-43f2-cff3-4d9ef0584543"
      },
      "outputs": [
        {
          "output_type": "stream",
          "name": "stdout",
          "text": [
            "Size of train_0:  127549 \n",
            "Size of validate_0:  63774 \n",
            "Size of test_0: 63775\n"
          ]
        }
      ],
      "source": [
        "#First we shuffle the dataset\n",
        "df0 = df0.sample(frac=1, random_state=33)\n",
        "#Then we split the dataset in three\n",
        "len_df0 = len(df0)\n",
        "train_0, validate_0, test_0 = df0[0:int(len_df0*.5)], df0[int(len_df0*.5):int(len_df0*.75)], df0[int(len_df0*.75):]\n",
        "\n",
        "print(\"Size of train_0: \", len(train_0), \"\\nSize of validate_0: \", len(validate_0), \"\\nSize of test_0:\", len(test_0))"
      ]
    },
    {
      "cell_type": "code",
      "execution_count": 49,
      "metadata": {
        "colab": {
          "base_uri": "https://localhost:8080/"
        },
        "id": "oVLxAfxL2DUw",
        "outputId": "dad9f43f-eeeb-48f7-8530-307f5baa8937"
      },
      "outputs": [
        {
          "output_type": "stream",
          "name": "stdout",
          "text": [
            "Size of train_1:  67049 \n",
            "Size of validate_1:  33524 \n",
            "Size of test_1: 33525\n"
          ]
        }
      ],
      "source": [
        "#First we shuffle the dataset\n",
        "df1 = df1.sample(frac=1, random_state=33)\n",
        "#Then we split the dataset in three\n",
        "len_df1 = len(df1)\n",
        "train_1, validate_1, test_1 = df1[0:int(len_df1*.5)], df1[int(len_df1*.5):int(len_df1*.75)], df1[int(len_df1*.75):]\n",
        "\n",
        "print(\"Size of train_1: \", len(train_1), \"\\nSize of validate_1: \", len(validate_1), \"\\nSize of test_1:\", len(test_1))"
      ]
    },
    {
      "cell_type": "markdown",
      "metadata": {
        "id": "fD5IADnZ2DUw"
      },
      "source": [
        "#### We can see that class 1 contains less samples than class 0, thus we must perform a augmentation on out data to avoid a biased train"
      ]
    },
    {
      "cell_type": "code",
      "execution_count": 50,
      "metadata": {
        "colab": {
          "base_uri": "https://localhost:8080/"
        },
        "id": "2cuAKve52DUx",
        "outputId": "9b2f73c7-1def-4e8d-9585-dfaaab641596"
      },
      "outputs": [
        {
          "output_type": "stream",
          "name": "stdout",
          "text": [
            "New train_1 len:  127549 \n",
            "New validate_1 len:  63774\n"
          ]
        }
      ],
      "source": [
        "train_data_ratio = len(train_1)/len(train_0)\n",
        "validate_data_ratio = len(validate_1)/len(validate_0)\n",
        "\n",
        "#We augment our data multiplying its size by 1/ratio \n",
        "new_train_1_len = int(len(train_1)/train_data_ratio)\n",
        "new_validate_1_len = int(len(validate_1)/validate_data_ratio)\n",
        "\n",
        "#We get a random sample that has the size we need to augment our data\n",
        "train_1_aug = train_1.sample(frac=1, random_state = 33)[:new_train_1_len - len(train_1)]\n",
        "validate_1_aug = validate_1.sample(frac=1, random_state = 33)[:new_validate_1_len - len(validate_1)]\n",
        "\n",
        "#Finally, we concatenate our data with the augmentation data\n",
        "train_1 = pd.concat([train_1, train_1_aug])\n",
        "validate_1 = pd.concat([validate_1, validate_1_aug])\n",
        "\n",
        "print(\"New train_1 len: \" ,len(train_1), \"\\nNew validate_1 len: \", len(validate_1))"
      ]
    },
    {
      "cell_type": "markdown",
      "metadata": {
        "id": "DvxFIeAi2DUy"
      },
      "source": [
        "### Third Step:\n",
        "#### Rejoining the and shuflling datasets"
      ]
    },
    {
      "cell_type": "code",
      "execution_count": 51,
      "metadata": {
        "id": "V3EyQ1n02DUy"
      },
      "outputs": [],
      "source": [
        "train = pd.concat([train_0, train_1]).sample(frac=1, random_state=33)\n",
        "validate = pd.concat([validate_0, validate_1]).sample(frac=1, random_state=33)\n",
        "#The test set does not need to be shuflled\n",
        "test = pd.concat([test_0, test_1])"
      ]
    },
    {
      "cell_type": "markdown",
      "metadata": {
        "id": "MNtGXvL92DUz"
      },
      "source": [
        "# Making Models for prediction"
      ]
    },
    {
      "cell_type": "markdown",
      "metadata": {
        "id": "nUluB-Yd2DUz"
      },
      "source": [
        "## Separating inputs from predictions"
      ]
    },
    {
      "cell_type": "code",
      "execution_count": 52,
      "metadata": {
        "id": "dSb0d0rU2DU0"
      },
      "outputs": [],
      "source": [
        "import torch\n",
        "from torch.utils.data import Dataset, DataLoader\n",
        "class RiskAnalysisDataset(Dataset):\n",
        "    \n",
        "    def __init__(self, data_features, data_labels):\n",
        "        self.data_features = torch.tensor(data_features.copy()).float()\n",
        "        self.data_labels = torch.tensor(data_labels.copy()).float()\n",
        "    \n",
        "    def __len__(self):\n",
        "        return len(self.data_features)\n",
        "    \n",
        "    def __getitem__(self, index):\n",
        "        return self.data_features[index], self.data_labels[index]\n",
        "        \n",
        "\n",
        "train_x = train.iloc[:, 0:244]\n",
        "train_Y = train.iloc[:, -1]\n",
        "train_data = RiskAnalysisDataset(train_x.values, train_Y.values)\n",
        "# variar batch train_loader = DataLoader(train_data, batch_size)\n",
        "\n",
        "validation_x = validate.iloc[:, 0:244]\n",
        "validation_Y = validate.iloc[:, -1]\n",
        "validation_data = RiskAnalysisDataset(validation_x.values, validation_Y.values)\n",
        "\n",
        "test_x = test.iloc[:, 0:244]\n",
        "test_Y = test.iloc[:, -1]\n",
        "test_data = RiskAnalysisDataset(test_x.values, test_Y.values)"
      ]
    },
    {
      "cell_type": "markdown",
      "metadata": {
        "id": "TM6hyso440M8"
      },
      "source": [
        ""
      ]
    },
    {
      "cell_type": "markdown",
      "metadata": {
        "id": "DV24CkGE5X0-"
      },
      "source": [
        "## Metrics used for evaluation"
      ]
    },
    {
      "cell_type": "code",
      "execution_count": 53,
      "metadata": {
        "id": "HRgwkgvuAi-C"
      },
      "outputs": [],
      "source": [
        "#!pip install scikit-plot\n",
        "from sklearn.metrics import roc_curve, auc, mean_squared_error, confusion_matrix, classification_report\n",
        "from scipy.stats import ks_2samp\n",
        "import scikitplot as skplt\n",
        "import matplotlib\n",
        "import matplotlib.pyplot as plt\n",
        "\n",
        "def ks_stat(y, yhat):\n",
        "    return ks_2samp(yhat[y==1], yhat[y!=1]).statistic\n",
        "\n",
        "def get_metrics(y, yhat, y_proba=None):\n",
        "  results = dict()\n",
        "\n",
        "  \n",
        "  if (y_proba is not None):\n",
        "    skplt.metrics.plot_ks_statistic(y, y_proba)\n",
        "    plt.show()\n",
        "  false_positive_rate, true_positive_rate, thresholds = roc_curve(y, yhat)\n",
        "  results['auroc'] = auc(false_positive_rate, true_positive_rate)\n",
        "  results['KS'] = ks_stat(y, yhat)\n",
        "  results['MSE'] = mean_squared_error(y,yhat)\n",
        "  results['confusion_matrix'] = confusion_matrix(y,yhat)\n",
        "  results['classification_report'] = classification_report(y,yhat)\n",
        "  for key in results:\n",
        "    print(key, ' ' , str(results[key]))\n",
        "  return results\n",
        "\n",
        "#RF_model = RandomForestClassifier(max_features = 7, max_depth = 10)\n",
        "#RF_model.fit(train_x, train_Y)\n",
        "#y_pred = RF_model.predict(validation_x)\n",
        "#y_proba = RF_model.predict_proba(validation_x)\n",
        "#results = get_metrics(validation_Y, y_pred, y_proba)"
      ]
    },
    {
      "cell_type": "markdown",
      "metadata": {
        "id": "WKhDnw722DU2"
      },
      "source": [
        "## MLP"
      ]
    },
    {
      "cell_type": "markdown",
      "metadata": {
        "id": "6cjORznD2DU2"
      },
      "source": [
        "## Random Forest"
      ]
    },
    {
      "cell_type": "code",
      "execution_count": 55,
      "metadata": {
        "id": "SeLibYJ-2DU2"
      },
      "outputs": [],
      "source": [
        "# Set of hyper-parameters for grid search\n",
        "\n",
        "max_samples = [None, 0.5]\n",
        "max_features =  [160,36,7]\n",
        "max_depths = [None, 20, 5]\n",
        "RF_test_results = []"
      ]
    },
    {
      "cell_type": "code",
      "execution_count": null,
      "metadata": {
        "colab": {
          "base_uri": "https://localhost:8080/"
        },
        "id": "MtgrccUz2DU3",
        "outputId": "a3b3eac2-7fff-415d-99ed-0caad9536784"
      },
      "outputs": [
        {
          "output_type": "stream",
          "name": "stdout",
          "text": [
            "Max_sample None Max_feature 160 Max_depht None\n"
          ]
        }
      ],
      "source": [
        "#Experiments via grid_search\n",
        "for max_sample in max_samples:\n",
        "  for max_feature in max_features:\n",
        "    for max_depth in max_depths:\n",
        "      print(\"Max_sample \" + str(max_sample) + \" Max_feature \" + str(max_feature) + \" Max_depht \" + str(max_depth))\n",
        "      RF_model = RandomForestClassifier(max_depth = max_depth, max_samples = max_sample, max_features = max_feature)\n",
        "      RF_model.fit(train_x, train_Y)\n",
        "      yhat = RF_model.predict(test_x)\n",
        "      y_proba = RF_model.predict_proba(test_x)\n",
        "      result = get_metrics(test_Y, yhat, y_proba)\n",
        "      RF_test_results.append((\"Max_sample \" + str(max_sample) +\n",
        "                        \"\\nMax_feature \" + str(max_feature) +\n",
        "                        \"\\nMax_depht \" + str(max_depth)\n",
        "                        , result['c_report']))"
      ]
    },
    {
      "cell_type": "code",
      "source": [
        "# open file for writing, \"w\" \n",
        "f = open(\"RF_test_results.txt\",\"w\")\n",
        "\n",
        "# write json object to file\n",
        "for r in RF_test_results:\n",
        "  f.write(str(r)+\"\\n\")\n",
        "\n",
        "# close file\n",
        "f.close()"
      ],
      "metadata": {
        "id": "dmuYZX3E3VZ6"
      },
      "execution_count": null,
      "outputs": []
    }
  ],
  "metadata": {
    "colab": {
      "collapsed_sections": [
        "DV24CkGE5X0-"
      ],
      "name": "credit-risk-analysis.ipynb",
      "provenance": []
    },
    "kernelspec": {
      "display_name": "Python 3 (ipykernel)",
      "language": "python",
      "name": "python3"
    },
    "language_info": {
      "codemirror_mode": {
        "name": "ipython",
        "version": 3
      },
      "file_extension": ".py",
      "mimetype": "text/x-python",
      "name": "python",
      "nbconvert_exporter": "python",
      "pygments_lexer": "ipython3",
      "version": "3.9.4"
    }
  },
  "nbformat": 4,
  "nbformat_minor": 0
}